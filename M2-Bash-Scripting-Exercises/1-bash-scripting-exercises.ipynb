{
 "cells": [
  {
   "cell_type": "markdown",
   "metadata": {},
   "source": [
    "### Activity 1\n",
    "\n",
    "---\n",
    "\n",
    "Create a simple shell script to tell the user about their session – they need to know:\n",
    "\n",
    "+    What their username is\n",
    "+    What the current date is\n",
    "+    What the time is\n",
    "+    What their current working directory is\n",
    "+    How many files they have in that directory\n",
    "+    What is the biggest file in their current directory"
   ]
  },
  {
   "cell_type": "code",
   "execution_count": 1,
   "metadata": {},
   "outputs": [
    {
     "name": "stdout",
     "output_type": "stream",
     "text": [
      "What is the username?\n",
      "Username is:\n",
      "What is the current date?\n",
      "Current date is: Mon Mar 28 02:48:55 CDT 2022\n",
      "What is the current time?\n",
      "Current time is: 02:48:55\n",
      "What is the current working directory?\n",
      "Current Directory is: /home/mheerspink/exercises/bash_scripting_exercises/M2-Bash-Scripting-Exercises\n",
      "How many files are in the directory?\n",
      "File Count: 4\n",
      "What is the biggest file in the current directory?\n",
      "The biggest file is: 17K 1-bash-scripting-exercises.ipynb 886 Activity-2.sh 6.6K fixGenerator.sh 47K fixlog.log\n"
     ]
    }
   ],
   "source": [
    "#!/bin/bash\n",
    "\n",
    "function activity1() {\n",
    "    # username\n",
    "    echo What is the username?\n",
    "    username=$USER\n",
    "    echo Username is: $username\n",
    "\n",
    "    # current date\n",
    "    echo What is the current date?\n",
    "    date=`date`\n",
    "    echo Current date is: $date\n",
    "\n",
    "    # current time\n",
    "    echo What is the current time?\n",
    "    time=`date +%T`\n",
    "    echo Current time is: $time\n",
    "\n",
    "    # current working directory\n",
    "    echo What is the current working directory?\n",
    "    echo Current Directory is: `pwd`\n",
    "\n",
    "    # how many files are in the directory\n",
    "    echo How many files are in the directory?\n",
    "    echo File Count: `ls | wc -l`\n",
    "\n",
    "    # biggest file in the current directory\n",
    "    echo What is the biggest file in the current directory?\n",
    "    echo The biggest file is: `du -bsh *`\n",
    "}\n",
    "\n",
    "activity1\n"
   ]
  },
  {
   "cell_type": "markdown",
   "metadata": {},
   "source": [
    "### Activity 2\n",
    "\n",
    "---\n",
    "\n",
    "Create a directory with a few test files in it (the files can be empty). \n",
    "\n",
    "Now write a script that for every file in that directory you rename it to have an extension of today's date in YYYYMMDD format."
   ]
  },
  {
   "cell_type": "code",
   "execution_count": 2,
   "metadata": {},
   "outputs": [
    {
     "name": "stdout",
     "output_type": "stream",
     "text": [
      "Creating Directory: testdir\n",
      "Files Created: test1.txt test2.txt test3.txt\n",
      "Renaming test1.txt to 2022-03-28-test1.txt\n",
      "Renaming test2.txt to 2022-03-28-test2.txt\n",
      "Renaming test3.txt to 2022-03-28-test3.txt\n",
      "Done!\n",
      "Files Renamed: 2022-03-28-test1.txt 2022-03-28-test2.txt 2022-03-28-test3.txt\n"
     ]
    }
   ],
   "source": [
    "#!/bin/bash\n",
    "\n",
    "function create_dir() {\n",
    "    if [ -d testdir ]; then\n",
    "        rm -rf testdir\n",
    "        echo Creating Directory: testdir\n",
    "        mkdir testdir && touch testdir/test1.txt testdir/test2.txt testdir/test3.txt\n",
    "        echo Files Created: $(ls testdir)\n",
    "    else\n",
    "        echo Creating Directory: testdir\n",
    "        mkdir testdir && touch testdir/test1.txt testdir/test2.txt testdir/test3.txt\n",
    "        echo Files Created: $(ls testdir)\n",
    "    fi\n",
    "\n",
    "}\n",
    "\n",
    "create_dir\n",
    "\n",
    "function rename_files() {\n",
    "    DAY=$(date +%F)\n",
    "    ext=\".txt\"\n",
    "    cd testdir\n",
    "    if [ $ext == \".txt\" ]; then\n",
    "        for file in *$ext; do\n",
    "            echo \"Renaming $file to $DAY-$file\"\n",
    "            mv $file $(basename \"$DAY-$file\")\n",
    "        done\n",
    "        echo Done!\n",
    "        cd ..\n",
    "        echo Files Renamed: $(ls testdir)\n",
    "    else\n",
    "        echo $ext \"NOT FOUND!\"\n",
    "    fi\n",
    "}\n",
    "\n",
    "rename_files\n",
    "\n",
    "if [ -d testdir ]; then\n",
    "    rm -rf testdir\n",
    "fi\n"
   ]
  },
  {
   "cell_type": "markdown",
   "metadata": {},
   "source": [
    "### Activity 3\n",
    "\n",
    "---\n",
    "\n",
    "You are in charge of creating a program for the lottery in your area! \n",
    "\n",
    "The options are for numbers between 1and 50. Create a script that picks 5 for each draw plus a bonus ball number between 1 and 10. \n",
    "\n",
    "Output the numbers to a file that has the date in its name.\n",
    "\n",
    "Create another script that will allow users to check their lottery numbers and advise them if they match or not and how many matches they got."
   ]
  },
  {
   "cell_type": "code",
   "execution_count": null,
   "metadata": {},
   "outputs": [],
   "source": []
  },
  {
   "cell_type": "markdown",
   "metadata": {},
   "source": [
    "### Activity 4\n",
    "\n",
    "---\n",
    "\n",
    "Write a script to validate how secure someone's password is. Things you would care about:"
   ]
  },
  {
   "cell_type": "code",
   "execution_count": null,
   "metadata": {},
   "outputs": [],
   "source": []
  },
  {
   "cell_type": "markdown",
   "metadata": {},
   "source": [
    "### Activity 5\n",
    "\n",
    "---\n",
    "\n",
    "Write a script that takes a number as an input and reverses it out to the user. For example, if the original number is 74985, the output should be 58947."
   ]
  },
  {
   "cell_type": "code",
   "execution_count": null,
   "metadata": {},
   "outputs": [],
   "source": []
  },
  {
   "cell_type": "markdown",
   "metadata": {},
   "source": [
    "### Activity 6\n",
    "\n",
    "---\n",
    "\n",
    "Create a script that takes two number parameters a and b and then shows True if a is larger than b or False otherwise.\n",
    "\n",
    "Create a second version of the script that then tells the user the difference between the two numbers.\n",
    "\n",
    "Remember to code defensively – ensure that your script handles things appropriately if someone enters things incorrectly!"
   ]
  },
  {
   "cell_type": "code",
   "execution_count": null,
   "metadata": {},
   "outputs": [],
   "source": []
  },
  {
   "cell_type": "markdown",
   "metadata": {},
   "source": [
    "### Activity 7\n",
    "\n",
    "---\n",
    "\n",
    "Create a 10-question true or false quiz game in your script. Choose a topic of your liking for the questions!"
   ]
  },
  {
   "cell_type": "code",
   "execution_count": null,
   "metadata": {},
   "outputs": [],
   "source": []
  },
  {
   "cell_type": "markdown",
   "metadata": {},
   "source": [
    "### Activity 8\n",
    "\n",
    "---\n",
    "\n",
    "Create a script that completes the following tasks:\n",
    "\n",
    "+    It prompts the user for a series of 5-10 integers.\n",
    "+    The user must be prompted for a minimum of 5 numbers.\n",
    "+    After the user has entered 5 numbers, the program should allow the user to stop entry or enter another number.\n",
    "\n",
    "When the user chooses to stop or after 10 numbers have been entered, the program stops prompting for values and performs the following calculations:\n",
    "\n",
    "+    the product of the integers\n",
    "+    the average of the integers\n",
    "+    the sum of the integers\n",
    "+    the min of the integers\n",
    "+    the max of the integers\n",
    "\n",
    "After performing the calculations, the program should display the following to the user:\n",
    "\n",
    "+    the values the user entered\n",
    "+    each of the calculations, using a phrase that identifies the value"
   ]
  },
  {
   "cell_type": "code",
   "execution_count": null,
   "metadata": {},
   "outputs": [],
   "source": []
  },
  {
   "cell_type": "markdown",
   "metadata": {},
   "source": [
    "### Activity 9\n",
    "\n",
    "---\n",
    "\n",
    "Write a script that takes a file name as a parameter.\n",
    "\n",
    "+    If the file exists, print an error and return a code.\n",
    "+    If the file does not exist, create the file."
   ]
  },
  {
   "cell_type": "code",
   "execution_count": null,
   "metadata": {},
   "outputs": [],
   "source": []
  },
  {
   "cell_type": "markdown",
   "metadata": {},
   "source": [
    "### Activity 10\n",
    "\n",
    "---\n",
    "\n",
    "Write a script that writes random numbers to a file (one number per line).\n",
    "\n",
    "+    The first parameter should be the file name.\n",
    "+    The second parameter is the number of lines to write.\n",
    "+    If the specified file already exists, display a relevant message and return a code."
   ]
  },
  {
   "cell_type": "code",
   "execution_count": null,
   "metadata": {},
   "outputs": [],
   "source": []
  },
  {
   "cell_type": "markdown",
   "metadata": {},
   "source": [
    "### Activity 11\n",
    "\n",
    "---\n",
    "\n",
    "Create a file that includes the following numbers.\n",
    "\n",
    "```\n",
    "5 6 3 7 4 4 9 6 7 9 8 2 3 6 4 5 1 1 3 10 12\n",
    "```\n",
    "\n",
    "Write a script that uses this file to perform the following tasks:\n",
    "\n",
    "+    Read in the file\n",
    "+    Sort the numbers into reverse order and output them to the screen\n",
    "+    Each number should output exactly once. Duplicate numbers should not appear in the output."
   ]
  },
  {
   "cell_type": "code",
   "execution_count": null,
   "metadata": {},
   "outputs": [],
   "source": []
  },
  {
   "cell_type": "markdown",
   "metadata": {},
   "source": [
    "### Activity 12\n",
    "\n",
    "---\n",
    "\n",
    "Write a script that checks if two files have at least one common element or not. \n",
    "\n",
    "Display an appropriate message for both scenarios. \n",
    "\n",
    "The file names should be specified as parameters. \n",
    "\n",
    "You will need to create the files to test this."
   ]
  },
  {
   "cell_type": "code",
   "execution_count": null,
   "metadata": {},
   "outputs": [],
   "source": []
  },
  {
   "cell_type": "markdown",
   "metadata": {},
   "source": [
    "### Activity 13\n",
    "\n",
    "---\n",
    "\n",
    "Write a script that takes two files of unique numbers and displays the difference between the two lists (without using grep).\n",
    "\n",
    "For example:\n",
    "\n",
    "File 1 contains:\n",
    "\n",
    "```\n",
    "1\n",
    "2\n",
    "4\n",
    "6\n",
    "```\n",
    "\n",
    "File 2 contains:\n",
    "\n",
    "```\n",
    "1\n",
    "2\n",
    "89\n",
    "6\n",
    "7\n",
    "```\n",
    "\n",
    "The output should look like:\n",
    "\n",
    "```\n",
    "Only in file 1:\n",
    "4\n",
    "\n",
    "Only in file 2:\n",
    "89\n",
    "7\n",
    "```\n",
    "\n",
    "**Stretch:** Create a new script that does the same thing using grep. Which script runs faster?"
   ]
  },
  {
   "cell_type": "code",
   "execution_count": null,
   "metadata": {},
   "outputs": [],
   "source": []
  },
  {
   "cell_type": "markdown",
   "metadata": {},
   "source": [
    "### Activity 14\n",
    "\n",
    "---\n",
    "\n",
    "In the materials folder on the server you will find a file called books. Copy this file to your home directory.\n",
    "\n",
    "Write a script that will parse the file, producing an output csv file that will list the word and each time it appears in the file.\n",
    "\n",
    "Make sure the list is sorted in the file such that the most common word is listed at the top and then descending. \n",
    "\n",
    "For example, a couple of lines in the output file should look like this:\n",
    "\n",
    "```\n",
    "And,200\n",
    "Is,195\n",
    "```"
   ]
  },
  {
   "cell_type": "code",
   "execution_count": null,
   "metadata": {},
   "outputs": [],
   "source": []
  },
  {
   "cell_type": "markdown",
   "metadata": {},
   "source": [
    "### Activity 15\n",
    "\n",
    "---\n",
    "\n",
    "Imagine that you support the fix Generator script. Write a wrapper script to set up your environment properly. \n",
    "\n",
    "You can also edit the fixGenerator script if you need to.\n",
    "\n",
    "Your fixGenerator script should be in a folder called FixGen in your home directory. \n",
    "\n",
    "The script needs to do the following:\n",
    "\n",
    "+    Check for a folder called FixGen/logs and if not present create it\n",
    "+    Compress all log files that are not the latest 3 logs files generated.\n",
    "+    Run the FixGenerator script with the log file being generated into the FixGen/logs directory.\n",
    "+    Once complete, add a cron job that will run Monday through Friday 6 a.m. to establish your environment.\n",
    "\n",
    "Remember to code defensively and ensure that you use exit codes so we know the job has successfully run. \n",
    "\n",
    "Your script should also output its own log file where we can see the status each step of the way of each part of the script."
   ]
  },
  {
   "cell_type": "code",
   "execution_count": null,
   "metadata": {},
   "outputs": [],
   "source": []
  },
  {
   "cell_type": "markdown",
   "metadata": {},
   "source": [
    "### Activity 16\n",
    "\n",
    "---\n",
    "\n",
    "Write a script that will output a csv that could be loaded into ITRS Geneos for monitoring on your fixGen script.\n",
    "\n",
    "+    It needs to parse the log file and produce a count of each message type that has been received or sent.\n",
    "+    Ensure you distinguish in the csv file if the message was sent or received.\n",
    "+    Also ensure you display the message type in English so it is easy to understand in monitoring. An example might look like:\n",
    "\n",
    "```\n",
    "Number of Partial fills,12\n",
    "```"
   ]
  },
  {
   "cell_type": "code",
   "execution_count": null,
   "metadata": {},
   "outputs": [],
   "source": []
  },
  {
   "cell_type": "markdown",
   "metadata": {},
   "source": [
    "### Activity 17\n",
    "\n",
    "---\n",
    "\n",
    "Create a script to convert your fix log file into a useful csv.\n",
    "\n",
    "Pull out the following information for each message:\n",
    "\n",
    "+    If the fix tag is in the message, leave a blank in the csv so that it will load appropriately in Excel.\n",
    "+    Translate the message type value into meaningful words.\n",
    "+    Ensure you have a header row in your csv file:\n",
    "\n",
    "```\n",
    "Client, Message type, stock, quantity, price, side, order id, last quantity, exec id, last price \n",
    "```\n"
   ]
  },
  {
   "cell_type": "code",
   "execution_count": null,
   "metadata": {},
   "outputs": [],
   "source": []
  },
  {
   "cell_type": "markdown",
   "metadata": {},
   "source": [
    "### Activity 18\n",
    "\n",
    "---\n",
    "\n",
    "Run the fixGenerator script to generate a fix log file.\n",
    "\n",
    "+    Create a script to parse that log file and for each order create a text description of what happened with that order.\n",
    "+    This should go into a log file with a paragraph for each order.\n",
    "\n",
    "For example:\n",
    "\n",
    "```\n",
    "New buy order for apple with order id 12335, 100 shares at price 54.2 \n",
    "Partial fill for apple with order id 12335, 20 shares at price 54.2\n",
    "Cancel message for apple with order id 12335\n",
    "Final state of order for apple with order id 12335: traded 40 shares at price 54.2. \n",
    "```\n",
    "\n",
    "Remember that each time you run the fix generator script, it creates a new log file so this is a good way to test."
   ]
  },
  {
   "cell_type": "code",
   "execution_count": null,
   "metadata": {},
   "outputs": [],
   "source": []
  },
  {
   "cell_type": "markdown",
   "metadata": {},
   "source": []
  },
  {
   "cell_type": "code",
   "execution_count": null,
   "metadata": {},
   "outputs": [],
   "source": []
  }
 ],
 "metadata": {
  "interpreter": {
   "hash": "916dbcbb3f70747c44a77c7bcd40155683ae19c65e1c03b4aa3499c5328201f1"
  },
  "kernelspec": {
   "display_name": "Bash",
   "language": "bash",
   "name": "bash"
  },
  "language_info": {
   "codemirror_mode": "shell",
   "file_extension": ".sh",
   "mimetype": "text/x-sh",
   "name": "bash"
  }
 },
 "nbformat": 4,
 "nbformat_minor": 4
}
