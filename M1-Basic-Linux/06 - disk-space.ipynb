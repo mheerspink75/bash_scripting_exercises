{
 "cells": [
  {
   "cell_type": "markdown",
   "id": "1038b026-1988-4c63-8622-5d07ecc17dd2",
   "metadata": {},
   "source": [
    "#### Disk Space\n",
    "\n",
    "---\n",
    "\n",
    "WSL2 Ubuntu"
   ]
  },
  {
   "cell_type": "markdown",
   "id": "d64de41f-29ac-49c1-a6ce-f19bac2e01fc",
   "metadata": {},
   "source": [
    "Run a command to see the disk usage across your file system"
   ]
  },
  {
   "cell_type": "code",
   "execution_count": null,
   "id": "b152f7bc-1d27-4f1c-aeea-2e4f5ddf3426",
   "metadata": {},
   "outputs": [],
   "source": [
    "df"
   ]
  },
  {
   "cell_type": "markdown",
   "id": "ede32843-d64a-4d36-8861-935c103f2ac3",
   "metadata": {},
   "source": [
    "Run the command again. This time ensure the output is in human-readable format and added to a file named usage in\n",
    "your home directory."
   ]
  },
  {
   "cell_type": "code",
   "execution_count": null,
   "id": "c4b308c0-f533-4bb0-80e6-a2fc87996699",
   "metadata": {},
   "outputs": [],
   "source": [
    "df -h > filesystem.usage"
   ]
  },
  {
   "cell_type": "markdown",
   "id": "c8aab0b8-4c16-4f5f-8c79-820b49a7ba0f",
   "metadata": {},
   "source": [
    " Show the disk usage for your home directory."
   ]
  },
  {
   "cell_type": "code",
   "execution_count": null,
   "id": "7992dea6-a3d6-48ed-984d-8d64c21f920f",
   "metadata": {},
   "outputs": [],
   "source": [
    "du ~"
   ]
  },
  {
   "cell_type": "markdown",
   "id": "018494fa-acaf-4599-9156-0cc2d2debd08",
   "metadata": {},
   "source": [
    "Show the disk usage for your home directory in human readable for and add it a file named usage in your home\n",
    "directory."
   ]
  },
  {
   "cell_type": "code",
   "execution_count": null,
   "id": "ae036caf-7362-4540-bbed-e54ba29b1ba8",
   "metadata": {},
   "outputs": [],
   "source": [
    "du -sh ~ > disk.usage"
   ]
  },
  {
   "cell_type": "markdown",
   "id": "31b04b3b-318b-43f8-b04c-4480d6db5992",
   "metadata": {},
   "source": [
    "Run a disk check specifically showing output for all files and folders in human readable format. \n",
    "Put the results into usage2 in your home directory."
   ]
  },
  {
   "cell_type": "code",
   "execution_count": null,
   "id": "e62f52ae-9f6e-44bf-ba33-c00eb9127736",
   "metadata": {},
   "outputs": [],
   "source": [
    "du -ah > disk.usage2"
   ]
  },
  {
   "cell_type": "markdown",
   "id": "69b7aaa9-fc1c-43b1-8548-df1802b02206",
   "metadata": {},
   "source": [
    " Show the disk usage for everything in /var"
   ]
  },
  {
   "cell_type": "code",
   "execution_count": null,
   "id": "5fe2b6e8-0ad8-4534-829f-2ca79ab8220c",
   "metadata": {},
   "outputs": [],
   "source": [
    "du /var"
   ]
  },
  {
   "cell_type": "markdown",
   "id": "684eb948-6cd6-47e2-bd8a-5c836a4798a1",
   "metadata": {},
   "source": [
    "Run a disk usage command on your home directory that will follow any links if you have them set up and display the output in human-readable format."
   ]
  },
  {
   "cell_type": "code",
   "execution_count": null,
   "id": "d60dea92-1dd3-4b0a-8103-42272bf59f6c",
   "metadata": {},
   "outputs": [],
   "source": [
    "# du -Lh ~"
   ]
  },
  {
   "cell_type": "markdown",
   "id": "d3b6adf3-c5b4-44c6-a77a-92c0b6534f2a",
   "metadata": {},
   "source": [
    "Create a folder named disk in your home directory"
   ]
  },
  {
   "cell_type": "code",
   "execution_count": null,
   "id": "e0fe06df-d604-4950-9c74-9a2c9369a6db",
   "metadata": {},
   "outputs": [],
   "source": [
    "mkdir disk"
   ]
  },
  {
   "cell_type": "markdown",
   "id": "735a22af-2165-446f-8099-600d235f5cb0",
   "metadata": {},
   "source": [
    "Copy your output files from exercise 2, exercise 4, and exercise 5 into this folder."
   ]
  },
  {
   "cell_type": "code",
   "execution_count": null,
   "id": "0e7b99c3-6d0b-462f-8deb-ff1fa430a26e",
   "metadata": {},
   "outputs": [],
   "source": [
    "cp disk.usage disk.usage2 filesystem.usage disk/."
   ]
  },
  {
   "cell_type": "markdown",
   "id": "4affa2be-cdfe-4f48-87b1-36969f91d5ee",
   "metadata": {},
   "source": [
    "Run a command to create an archive tar file named tar that includes everything in this folder."
   ]
  },
  {
   "cell_type": "code",
   "execution_count": null,
   "id": "8981d328-25a3-4c02-b733-0503512023f8",
   "metadata": {},
   "outputs": [],
   "source": [
    "cd disk\n",
    "\n",
    "pwd && ls\n",
    "\n",
    "tar -cvf disk.tar *\n",
    "\n",
    "ls"
   ]
  },
  {
   "cell_type": "markdown",
   "id": "088f8553-d25b-4fe6-aeaa-2f5041d0d80a",
   "metadata": {},
   "source": [
    "Reverse the previous command and undo the archive."
   ]
  },
  {
   "cell_type": "code",
   "execution_count": null,
   "id": "56601546-9e02-4173-ad1a-599a059ec5ee",
   "metadata": {},
   "outputs": [],
   "source": [
    "tar -xvf disk.tar"
   ]
  },
  {
   "cell_type": "markdown",
   "id": "99da2b34-578b-4e22-b8b3-b437445a6367",
   "metadata": {},
   "source": [
    "Now run an archive of these files to ensure it creates a g-zipped tarball named disk.tar.gz in a single-line command."
   ]
  },
  {
   "cell_type": "code",
   "execution_count": null,
   "id": "0ea1834b-092f-4609-8f08-f9245b7ab68e",
   "metadata": {},
   "outputs": [],
   "source": [
    "tar -cvzf disk.tar.gz *"
   ]
  },
  {
   "cell_type": "markdown",
   "id": "9691b7dd-1a90-46a2-ab2b-d740ad12ae21",
   "metadata": {},
   "source": [
    "Create an empty file named newdisk in this directory."
   ]
  },
  {
   "cell_type": "code",
   "execution_count": null,
   "id": "ae4f9c8c-8724-4b07-b538-e96994d8c3d8",
   "metadata": {},
   "outputs": [],
   "source": [
    "touch newdisk"
   ]
  },
  {
   "cell_type": "markdown",
   "id": "a1234b9a-8a44-4af6-beb8-25007c01a509",
   "metadata": {},
   "source": [
    "Uncompress the gz file you created so that it is back to being just a tar file."
   ]
  },
  {
   "cell_type": "code",
   "execution_count": null,
   "id": "c471bad2-9270-40e2-9cdf-551bc4f78ea2",
   "metadata": {},
   "outputs": [],
   "source": [
    "gunzip -k disk.tar.gz"
   ]
  },
  {
   "cell_type": "markdown",
   "id": "14dc76ff-8c02-4f7f-a89a-5dbb906dcaea",
   "metadata": {},
   "source": [
    "Add the newdisk file to the tar file."
   ]
  },
  {
   "cell_type": "code",
   "execution_count": null,
   "id": "b03797d1-6e77-49de-8293-6752df18e2c0",
   "metadata": {},
   "outputs": [],
   "source": [
    "tar -rvf disk.tar newdisk"
   ]
  },
  {
   "cell_type": "markdown",
   "id": "11a9ad1d-03b0-44c1-b09d-3b906daac9d5",
   "metadata": {},
   "source": [
    "Compress the tar file again to make a g-zipped tar ball again."
   ]
  },
  {
   "cell_type": "code",
   "execution_count": null,
   "id": "d41003f4-7294-49ff-af14-015df725eaf7",
   "metadata": {},
   "outputs": [],
   "source": [
    "gzip disk.tar.gz"
   ]
  },
  {
   "cell_type": "markdown",
   "id": "5c01887f-639b-4b76-be11-a9670537978a",
   "metadata": {},
   "source": [
    "Create another directory named disk_output in your home directory."
   ]
  },
  {
   "cell_type": "code",
   "execution_count": null,
   "id": "da7ae60d-356e-4b12-bac3-8d46d54a305f",
   "metadata": {},
   "outputs": [],
   "source": [
    "#pwd\n",
    "cd ..\n",
    "mkdir disk_output"
   ]
  },
  {
   "cell_type": "markdown",
   "id": "ac2bb9b8-8d17-4d4c-a732-77185b458902",
   "metadata": {},
   "source": [
    "Uncompress your tarball to the directory you just created."
   ]
  },
  {
   "cell_type": "code",
   "execution_count": null,
   "id": "2a34f705-3a8d-44f6-af5d-f596991e3489",
   "metadata": {},
   "outputs": [],
   "source": [
    "tar -xvzf disk/disk.tar.gz -C disk_output/."
   ]
  },
  {
   "cell_type": "markdown",
   "id": "5bd03407-80f5-4786-ae1c-0fb6635a3e68",
   "metadata": {},
   "source": [
    "Run a command to g-zip your disk_output directory. Ensure it recursively\n",
    "compresses everything."
   ]
  },
  {
   "cell_type": "code",
   "execution_count": null,
   "id": "10a74876-752b-4253-9151-7bcfb7497b15",
   "metadata": {},
   "outputs": [],
   "source": [
    "gzip -r disk_output/\n",
    "\n",
    "ls disk_output"
   ]
  },
  {
   "cell_type": "markdown",
   "id": "24068022-e9ff-4c94-b675-44753e8e834a",
   "metadata": {},
   "source": [
    "Remove temporary files..."
   ]
  },
  {
   "cell_type": "code",
   "execution_count": null,
   "id": "7bb0c1fb-8d05-4b9e-8827-bb7cd6d98e92",
   "metadata": {},
   "outputs": [],
   "source": [
    "rm -rf disk disk_output disk.usage disk.usage2 filesystem.usage"
   ]
  }
 ],
 "metadata": {
  "kernelspec": {
   "display_name": "Bash",
   "language": "bash",
   "name": "bash"
  },
  "language_info": {
   "codemirror_mode": "shell",
   "file_extension": ".sh",
   "mimetype": "text/x-sh",
   "name": "bash"
  }
 },
 "nbformat": 4,
 "nbformat_minor": 5
}
