{
 "cells": [
  {
   "cell_type": "markdown",
   "metadata": {},
   "source": [
    "## Health of a Server \n",
    "\n",
    "---\n",
    "\n",
    "AWS EC2 Instance"
   ]
  },
  {
   "cell_type": "markdown",
   "metadata": {},
   "source": [
    "Run a command to see all the processes running on the server owned by everyone."
   ]
  },
  {
   "cell_type": "code",
   "execution_count": 4,
   "metadata": {},
   "outputs": [
    {
     "name": "stderr",
     "output_type": "stream",
     "text": [
      "Pseudo-terminal will not be allocated because stdin is not a terminal.\n"
     ]
    },
    {
     "name": "stdout",
     "output_type": "stream",
     "text": [
      "Running Processes...\n",
      "\n",
      "UID        PID  PPID  C STIME TTY          TIME CMD\n",
      "root         1     0  0 12:52 ?        00:00:01 /usr/lib/systemd/systemd --switched-root --system --deserialize 21\n",
      "root         2     0  0 12:52 ?        00:00:00 [kthreadd]\n",
      "root         4     2  0 12:52 ?        00:00:00 [kworker/0:0H]\n",
      "root         6     2  0 12:52 ?        00:00:00 [mm_percpu_wq]\n",
      "root         7     2  0 12:52 ?        00:00:00 [ksoftirqd/0]\n",
      "root         8     2  0 12:52 ?        00:00:00 [rcu_sched]\n",
      "root         9     2  0 12:52 ?        00:00:00 [rcu_bh]\n",
      "root        10     2  0 12:52 ?        00:00:00 [migration/0]\n",
      "root        11     2  0 12:52 ?        00:00:00 [watchdog/0]\n",
      "root        12     2  0 12:52 ?        00:00:00 [cpuhp/0]\n",
      "root        14     2  0 12:52 ?        00:00:00 [kdevtmpfs]\n",
      "root        15     2  0 12:52 ?        00:00:00 [netns]\n",
      "root       191     2  0 12:52 ?        00:00:00 [khungtaskd]\n",
      "root       192     2  0 12:52 ?        00:00:00 [oom_reaper]\n",
      "root       193     2  0 12:52 ?        00:00:00 [writeback]\n",
      "root       195     2  0 12:52 ?        00:00:00 [kcompactd0]\n",
      "root       196     2  0 12:52 ?        00:00:00 [ksmd]\n",
      "root       197     2  0 12:52 ?        00:00:00 [khugepaged]\n",
      "root       198     2  0 12:52 ?        00:00:00 [crypto]\n",
      "root       199     2  0 12:52 ?        00:00:00 [kintegrityd]\n",
      "root       201     2  0 12:52 ?        00:00:00 [kblockd]\n",
      "root       542     2  0 12:52 ?        00:00:00 [xen-balloon]\n",
      "root       553     2  0 12:52 ?        00:00:00 [md]\n",
      "root       556     2  0 12:52 ?        00:00:00 [edac-poller]\n",
      "root       561     2  0 12:52 ?        00:00:00 [watchdogd]\n",
      "root       702     2  0 12:52 ?        00:00:00 [kauditd]\n",
      "root       708     2  0 12:52 ?        00:00:00 [kswapd0]\n",
      "root       798     2  0 12:52 ?        00:00:00 [xfsalloc]\n",
      "root       799     2  0 12:52 ?        00:00:00 [xfs_mru_cache]\n",
      "root       853     2  0 12:52 ?        00:00:00 [kthrotld]\n",
      "root       864     2  0 12:52 ?        00:00:00 [xenbus]\n",
      "root       865     2  0 12:52 ?        00:00:00 [xenwatch]\n",
      "root       887     2  0 12:52 ?        00:00:00 [nvme-wq]\n",
      "root       916     2  0 12:52 ?        00:00:00 [ipv6_addrconf]\n",
      "root       921     2  0 12:52 ?        00:00:00 [kstrp]\n",
      "root      1581     2  0 12:52 ?        00:00:00 [kworker/u30:2]\n",
      "root      1587     2  0 12:52 ?        00:00:00 [xfs-buf/xvda1]\n",
      "root      1588     2  0 12:52 ?        00:00:00 [xfs-data/xvda1]\n",
      "root      1589     2  0 12:52 ?        00:00:00 [xfs-conv/xvda1]\n",
      "root      1590     2  0 12:52 ?        00:00:00 [xfs-cil/xvda1]\n",
      "root      1591     2  0 12:52 ?        00:00:00 [xfs-reclaim/xvd]\n",
      "root      1592     2  0 12:52 ?        00:00:00 [xfs-log/xvda1]\n",
      "root      1593     2  0 12:52 ?        00:00:00 [xfs-eofblocks/x]\n",
      "root      1594     2  0 12:52 ?        00:00:00 [xfsaild/xvda1]\n",
      "root      1595     2  0 12:52 ?        00:00:00 [kworker/0:1H]\n",
      "root      1655     1  0 12:52 ?        00:00:00 /usr/lib/systemd/systemd-journald\n",
      "root      1786     1  0 12:52 ?        00:00:00 /usr/sbin/lvmetad -f\n",
      "root      2258     2  0 12:52 ?        00:00:00 [ena]\n",
      "root      2265     1  0 12:52 ?        00:00:00 /usr/lib/systemd/systemd-udevd\n",
      "root      2316     2  0 12:52 ?        00:00:00 [ata_sff]\n",
      "root      2340     2  0 12:52 ?        00:00:00 [scsi_eh_0]\n",
      "root      2347     2  0 12:52 ?        00:00:00 [scsi_tmf_0]\n",
      "root      2351     2  0 12:52 ?        00:00:00 [scsi_eh_1]\n",
      "root      2353     2  0 12:52 ?        00:00:00 [scsi_tmf_1]\n",
      "root      2445     2  0 12:52 ?        00:00:00 [rpciod]\n",
      "root      2446     2  0 12:52 ?        00:00:00 [xprtiod]\n",
      "root      2450     1  0 12:52 ?        00:00:00 /sbin/auditd\n",
      "dbus      2478     1  0 12:52 ?        00:00:00 /usr/bin/dbus-daemon --system --address=systemd: --nofork --nopidfile --systemd-activation\n",
      "rpc       2484     1  0 12:52 ?        00:00:00 /sbin/rpcbind -w\n",
      "root      2487     1  0 12:52 ?        00:00:00 /usr/lib/systemd/systemd-logind\n",
      "libstor+  2491     1  0 12:52 ?        00:00:00 /usr/bin/lsmd -d\n",
      "rngd      2502     1  0 12:52 ?        00:00:00 /sbin/rngd -f --fill-watermark=0 --exclude=jitter\n",
      "chrony    2503     1  0 12:52 ?        00:00:00 /usr/sbin/chronyd\n",
      "root      2513     1  0 12:52 ?        00:00:00 /usr/sbin/gssproxy -D\n",
      "root      2703     1  0 12:52 ?        00:00:00 /sbin/dhclient -q -lf /var/lib/dhclient/dhclient--eth0.lease -pf /var/run/dhclient-eth0.pid -H ip-172-31-80-174 eth0\n",
      "root      2753     1  0 12:52 ?        00:00:00 /sbin/dhclient -6 -nw -lf /var/lib/dhclient/dhclient6--eth0.lease -pf /var/run/dhclient6-eth0.pid eth0 -H ip-172-31-80-174\n",
      "root      2896     1  0 12:52 ?        00:00:00 /usr/libexec/postfix/master -w\n",
      "postfix   2897  2896  0 12:52 ?        00:00:00 pickup -l -t unix -u\n",
      "postfix   2898  2896  0 12:52 ?        00:00:00 qmgr -l -t unix -u\n",
      "root      2939     1  0 12:52 ?        00:00:00 /usr/bin/amazon-ssm-agent\n",
      "root      2945     1  0 12:52 ?        00:00:00 /usr/sbin/sshd -D\n",
      "root      2955     1  0 12:52 ?        00:00:00 /usr/sbin/crond -n\n",
      "root      2958     1  0 12:52 ?        00:00:00 /usr/sbin/atd -f\n",
      "root      3007     1  0 12:52 tty1     00:00:00 /sbin/agetty --noclear tty1 linux\n",
      "root      3008     1  0 12:52 ttyS0    00:00:00 /sbin/agetty --keep-baud 115200,38400,9600 ttyS0 vt220\n",
      "root      3080  2939  0 12:52 ?        00:00:00 /usr/bin/ssm-agent-worker\n",
      "root      3097     1  0 12:52 ?        00:00:00 /usr/sbin/acpid\n",
      "root      3126  2945  0 12:55 ?        00:00:00 sshd: ec2-user [priv]\n",
      "ec2-user  3144  3126  0 12:55 ?        00:00:00 sshd: ec2-user@pts/0\n",
      "ec2-user  3145  3144  0 12:55 pts/0    00:00:00 -bash\n",
      "root      4008     1  0 12:56 ?        00:00:00 /usr/sbin/rsyslogd -n\n",
      "root      9616     1  0 13:01 ?        00:00:00 /usr/sbin/anacron -s\n",
      "root      9622     2  0 13:02 ?        00:00:00 [kworker/u30:0]\n",
      "root      9702     2  0 13:08 ?        00:00:00 [kworker/0:2]\n",
      "root      9716     2  0 13:13 ?        00:00:00 [kworker/0:0]\n",
      "root      9848     2  0 13:19 ?        00:00:00 [kworker/0:1]\n",
      "root     10732  2945  1 13:21 ?        00:00:00 sshd: ec2-user [priv]\n",
      "ec2-user 10750 10732  0 13:21 ?        00:00:00 sshd: ec2-user@notty\n",
      "ec2-user 10751 10750  0 13:21 ?        00:00:00 -bash\n",
      "ec2-user 10762 10751  0 13:21 ?        00:00:00 ps -ef\n"
     ]
    }
   ],
   "source": [
    "%%bash ./ec2.sh\n",
    "\n",
    "echo $'Running Processes...\\n'\n",
    "\n",
    "ps -ef "
   ]
  },
  {
   "cell_type": "markdown",
   "metadata": {},
   "source": [
    "Confirm the username you are running as."
   ]
  },
  {
   "cell_type": "code",
   "execution_count": 8,
   "metadata": {},
   "outputs": [
    {
     "name": "stderr",
     "output_type": "stream",
     "text": [
      "Pseudo-terminal will not be allocated because stdin is not a terminal.\n"
     ]
    },
    {
     "name": "stdout",
     "output_type": "stream",
     "text": [
      "checking username...\n",
      "\n",
      "ec2-user\n"
     ]
    }
   ],
   "source": [
    "%%bash ./ec2.sh\n",
    "\n",
    "echo $'checking username...\\n'\n",
    "\n",
    "echo $USER"
   ]
  },
  {
   "cell_type": "markdown",
   "metadata": {},
   "source": [
    "Run a command to see all the processes running on the server and use grep to select only the processes your user is running."
   ]
  },
  {
   "cell_type": "code",
   "execution_count": 7,
   "metadata": {},
   "outputs": [
    {
     "name": "stderr",
     "output_type": "stream",
     "text": [
      "Pseudo-terminal will not be allocated because stdin is not a terminal.\n"
     ]
    },
    {
     "name": "stdout",
     "output_type": "stream",
     "text": [
      "root      3126  2945  0 12:55 ?        00:00:00 sshd: ec2-user [priv]\n",
      "ec2-user  3144  3126  0 12:55 ?        00:00:00 sshd: ec2-user@pts/0\n",
      "ec2-user  3145  3144  0 12:55 pts/0    00:00:00 -bash\n",
      "root     10833  2945  0 13:22 ?        00:00:00 sshd: ec2-user [priv]\n",
      "ec2-user 10851 10833  0 13:22 ?        00:00:00 sshd: ec2-user@notty\n",
      "ec2-user 10852 10851  0 13:22 ?        00:00:00 -bash\n",
      "ec2-user 10863 10852  0 13:22 ?        00:00:00 ps -ef\n",
      "ec2-user 10864 10852  0 13:22 ?        00:00:00 grep ec2-user\n"
     ]
    }
   ],
   "source": [
    "%%bash ./ec2.sh\n",
    "\n",
    "ps -ef | grep $USER\n"
   ]
  },
  {
   "cell_type": "markdown",
   "metadata": {},
   "source": [
    "Repeat the previous exercise. This time, select every process except things running as you.\n"
   ]
  },
  {
   "cell_type": "code",
   "execution_count": 12,
   "metadata": {},
   "outputs": [
    {
     "name": "stderr",
     "output_type": "stream",
     "text": [
      "Pseudo-terminal will not be allocated because stdin is not a terminal.\n"
     ]
    },
    {
     "name": "stdout",
     "output_type": "stream",
     "text": [
      "UID        PID  PPID  C STIME TTY          TIME CMD\n",
      "root         1     0  0 12:52 ?        00:00:01 /usr/lib/systemd/systemd --switched-root --system --deserialize 21\n",
      "root         2     0  0 12:52 ?        00:00:00 [kthreadd]\n",
      "root         4     2  0 12:52 ?        00:00:00 [kworker/0:0H]\n",
      "root         6     2  0 12:52 ?        00:00:00 [mm_percpu_wq]\n",
      "root         7     2  0 12:52 ?        00:00:00 [ksoftirqd/0]\n",
      "root         8     2  0 12:52 ?        00:00:00 [rcu_sched]\n",
      "root         9     2  0 12:52 ?        00:00:00 [rcu_bh]\n",
      "root        10     2  0 12:52 ?        00:00:00 [migration/0]\n",
      "root        11     2  0 12:52 ?        00:00:00 [watchdog/0]\n",
      "root        12     2  0 12:52 ?        00:00:00 [cpuhp/0]\n",
      "root        14     2  0 12:52 ?        00:00:00 [kdevtmpfs]\n",
      "root        15     2  0 12:52 ?        00:00:00 [netns]\n",
      "root       191     2  0 12:52 ?        00:00:00 [khungtaskd]\n",
      "root       192     2  0 12:52 ?        00:00:00 [oom_reaper]\n",
      "root       193     2  0 12:52 ?        00:00:00 [writeback]\n",
      "root       195     2  0 12:52 ?        00:00:00 [kcompactd0]\n",
      "root       196     2  0 12:52 ?        00:00:00 [ksmd]\n",
      "root       197     2  0 12:52 ?        00:00:00 [khugepaged]\n",
      "root       198     2  0 12:52 ?        00:00:00 [crypto]\n",
      "root       199     2  0 12:52 ?        00:00:00 [kintegrityd]\n",
      "root       201     2  0 12:52 ?        00:00:00 [kblockd]\n",
      "root       542     2  0 12:52 ?        00:00:00 [xen-balloon]\n",
      "root       553     2  0 12:52 ?        00:00:00 [md]\n",
      "root       556     2  0 12:52 ?        00:00:00 [edac-poller]\n",
      "root       561     2  0 12:52 ?        00:00:00 [watchdogd]\n",
      "root       702     2  0 12:52 ?        00:00:00 [kauditd]\n",
      "root       708     2  0 12:52 ?        00:00:00 [kswapd0]\n",
      "root       798     2  0 12:52 ?        00:00:00 [xfsalloc]\n",
      "root       799     2  0 12:52 ?        00:00:00 [xfs_mru_cache]\n",
      "root       853     2  0 12:52 ?        00:00:00 [kthrotld]\n",
      "root       864     2  0 12:52 ?        00:00:00 [xenbus]\n",
      "root       865     2  0 12:52 ?        00:00:00 [xenwatch]\n",
      "root       887     2  0 12:52 ?        00:00:00 [nvme-wq]\n",
      "root       916     2  0 12:52 ?        00:00:00 [ipv6_addrconf]\n",
      "root       921     2  0 12:52 ?        00:00:00 [kstrp]\n",
      "root      1581     2  0 12:52 ?        00:00:00 [kworker/u30:2]\n",
      "root      1587     2  0 12:52 ?        00:00:00 [xfs-buf/xvda1]\n",
      "root      1588     2  0 12:52 ?        00:00:00 [xfs-data/xvda1]\n",
      "root      1589     2  0 12:52 ?        00:00:00 [xfs-conv/xvda1]\n",
      "root      1590     2  0 12:52 ?        00:00:00 [xfs-cil/xvda1]\n",
      "root      1591     2  0 12:52 ?        00:00:00 [xfs-reclaim/xvd]\n",
      "root      1592     2  0 12:52 ?        00:00:00 [xfs-log/xvda1]\n",
      "root      1593     2  0 12:52 ?        00:00:00 [xfs-eofblocks/x]\n",
      "root      1594     2  0 12:52 ?        00:00:00 [xfsaild/xvda1]\n",
      "root      1595     2  0 12:52 ?        00:00:00 [kworker/0:1H]\n",
      "root      1655     1  0 12:52 ?        00:00:00 /usr/lib/systemd/systemd-journald\n",
      "root      1786     1  0 12:52 ?        00:00:00 /usr/sbin/lvmetad -f\n",
      "root      2258     2  0 12:52 ?        00:00:00 [ena]\n",
      "root      2265     1  0 12:52 ?        00:00:00 /usr/lib/systemd/systemd-udevd\n",
      "root      2316     2  0 12:52 ?        00:00:00 [ata_sff]\n",
      "root      2340     2  0 12:52 ?        00:00:00 [scsi_eh_0]\n",
      "root      2347     2  0 12:52 ?        00:00:00 [scsi_tmf_0]\n",
      "root      2351     2  0 12:52 ?        00:00:00 [scsi_eh_1]\n",
      "root      2353     2  0 12:52 ?        00:00:00 [scsi_tmf_1]\n",
      "root      2445     2  0 12:52 ?        00:00:00 [rpciod]\n",
      "root      2446     2  0 12:52 ?        00:00:00 [xprtiod]\n",
      "root      2450     1  0 12:52 ?        00:00:00 /sbin/auditd\n",
      "dbus      2478     1  0 12:52 ?        00:00:00 /usr/bin/dbus-daemon --system --address=systemd: --nofork --nopidfile --systemd-activation\n",
      "rpc       2484     1  0 12:52 ?        00:00:00 /sbin/rpcbind -w\n",
      "root      2487     1  0 12:52 ?        00:00:00 /usr/lib/systemd/systemd-logind\n",
      "libstor+  2491     1  0 12:52 ?        00:00:00 /usr/bin/lsmd -d\n",
      "rngd      2502     1  0 12:52 ?        00:00:00 /sbin/rngd -f --fill-watermark=0 --exclude=jitter\n",
      "chrony    2503     1  0 12:52 ?        00:00:00 /usr/sbin/chronyd\n",
      "root      2513     1  0 12:52 ?        00:00:00 /usr/sbin/gssproxy -D\n",
      "root      2703     1  0 12:52 ?        00:00:00 /sbin/dhclient -q -lf /var/lib/dhclient/dhclient--eth0.lease -pf /var/run/dhclient-eth0.pid -H ip-172-31-80-174 eth0\n",
      "root      2753     1  0 12:52 ?        00:00:00 /sbin/dhclient -6 -nw -lf /var/lib/dhclient/dhclient6--eth0.lease -pf /var/run/dhclient6-eth0.pid eth0 -H ip-172-31-80-174\n",
      "root      2896     1  0 12:52 ?        00:00:00 /usr/libexec/postfix/master -w\n",
      "postfix   2897  2896  0 12:52 ?        00:00:00 pickup -l -t unix -u\n",
      "postfix   2898  2896  0 12:52 ?        00:00:00 qmgr -l -t unix -u\n",
      "root      2939     1  0 12:52 ?        00:00:00 /usr/bin/amazon-ssm-agent\n",
      "root      2945     1  0 12:52 ?        00:00:00 /usr/sbin/sshd -D\n",
      "root      2955     1  0 12:52 ?        00:00:00 /usr/sbin/crond -n\n",
      "root      2958     1  0 12:52 ?        00:00:00 /usr/sbin/atd -f\n",
      "root      3007     1  0 12:52 tty1     00:00:00 /sbin/agetty --noclear tty1 linux\n",
      "root      3008     1  0 12:52 ttyS0    00:00:00 /sbin/agetty --keep-baud 115200,38400,9600 ttyS0 vt220\n",
      "root      3080  2939  0 12:52 ?        00:00:00 /usr/bin/ssm-agent-worker\n",
      "root      3097     1  0 12:52 ?        00:00:00 /usr/sbin/acpid\n",
      "root      4008     1  0 12:56 ?        00:00:00 /usr/sbin/rsyslogd -n\n",
      "root      9616     1  0 13:01 ?        00:00:00 /usr/sbin/anacron -s\n",
      "root      9622     2  0 13:02 ?        00:00:00 [kworker/u30:0]\n",
      "root     11263     2  0 13:29 ?        00:00:00 [kworker/0:0]\n",
      "root     11996     2  0 13:35 ?        00:00:00 [kworker/0:1]\n",
      "root     12053     2  0 13:40 ?        00:00:00 [kworker/0:2]\n",
      "hello\n"
     ]
    }
   ],
   "source": [
    "%%bash ./ec2.sh\n",
    "\n",
    "ps -ef | grep -v $USER"
   ]
  },
  {
   "cell_type": "markdown",
   "metadata": {},
   "source": [
    "Show the process info for our current session without using a grep command."
   ]
  },
  {
   "cell_type": "code",
   "execution_count": 13,
   "metadata": {},
   "outputs": [
    {
     "name": "stderr",
     "output_type": "stream",
     "text": [
      "Pseudo-terminal will not be allocated because stdin is not a terminal.\n"
     ]
    },
    {
     "name": "stdout",
     "output_type": "stream",
     "text": [
      "UID        PID  PPID  C STIME TTY      STAT   TIME CMD\n",
      "ec2-user 12146 12145  0 13:44 ?        Ss     0:00 -bash\n",
      "hello\n"
     ]
    }
   ],
   "source": [
    "%%bash ./ec2.sh\n",
    "\n",
    "ps -f $$"
   ]
  }
 ],
 "metadata": {
  "interpreter": {
   "hash": "74a49e9696adfe1c0b154918055a4355d9cdab3b5148c7580898f01b33e5a3a2"
  },
  "kernelspec": {
   "display_name": "Bash",
   "language": "python",
   "name": "python3"
  },
  "language_info": {
   "codemirror_mode": {
    "name": "ipython",
    "version": 3
   },
   "file_extension": ".py",
   "mimetype": "text/x-python",
   "name": "python",
   "nbconvert_exporter": "python",
   "pygments_lexer": "ipython3",
   "version": "3.10.2"
  },
  "orig_nbformat": 4
 },
 "nbformat": 4,
 "nbformat_minor": 2
}
