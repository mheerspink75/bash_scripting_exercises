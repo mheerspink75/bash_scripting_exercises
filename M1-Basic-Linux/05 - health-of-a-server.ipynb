{
 "cells": [
  {
   "cell_type": "markdown",
   "metadata": {
    "tags": []
   },
   "source": [
    "## Health of a Server \n",
    "\n",
    "---\n",
    "\n",
    "WSL2 Ubuntu"
   ]
  },
  {
   "cell_type": "markdown",
   "metadata": {},
   "source": [
    "Run a command to see all the processes running on the server owned by everyone."
   ]
  },
  {
   "cell_type": "code",
   "execution_count": 47,
   "metadata": {},
   "outputs": [
    {
     "name": "stdout",
     "output_type": "stream",
     "text": [
      "UID        PID  PPID  C STIME TTY          TIME CMD\n",
      "root         1     0  0 18:08 ?        00:00:00 /init\n",
      "root        13     1  0 18:08 ?        00:00:00 /init\n",
      "root        14    13  0 18:08 ?        00:00:00 /init\n",
      "mheersp+    15    14  0 18:08 pts/0    00:00:00 sh -c \"$VSCODE_WSL_EXT_LOCATION/\n",
      "mheersp+    16    15  0 18:08 pts/0    00:00:00 sh /mnt/c/Users/Matt Heerspink/.\n",
      "mheersp+    21    16  0 18:08 pts/0    00:00:00 sh /home/mheerspink/.vscode-serv\n",
      "mheersp+    25    21  0 18:08 pts/0    00:00:03 /home/mheerspink/.vscode-server/\n",
      "mheersp+    36    25  0 18:08 pts/0    00:00:05 /home/mheerspink/.vscode-server/\n",
      "root        47     1  0 18:08 ?        00:00:00 /init\n",
      "root        48    47  0 18:08 ?        00:00:00 /init\n",
      "mheersp+    51    48  0 18:08 pts/1    00:00:00 /home/mheerspink/.vscode-server/\n",
      "root        75     1  0 18:08 ?        00:00:00 /init\n",
      "root        76    75  0 18:08 ?        00:00:00 /init\n",
      "mheersp+    77    76  0 18:08 pts/2    00:00:00 /home/mheerspink/.vscode-server/\n",
      "mheersp+    84    25  0 18:08 pts/0    00:00:00 /home/mheerspink/.vscode-server/\n",
      "mheersp+    95    25  0 18:08 pts/0    00:00:12 /home/mheerspink/.vscode-server/\n",
      "mheersp+   290    36  0 18:12 pts/5    00:00:00 /usr/bin/bash\n",
      "mheersp+   343    36  0 18:12 pts/6    00:00:00 /usr/bin/tmux\n",
      "mheersp+   346    14  0 18:12 ?        00:00:00 /usr/bin/tmux\n",
      "mheersp+   347   346  0 18:12 pts/7    00:00:00 -bash\n",
      "mheersp+   607   347  0 18:16 pts/7    00:00:21 /usr/bin/python3 /home/mheerspin\n",
      "mheersp+   729   607  0 18:16 pts/3    00:00:00 /bin/bash\n",
      "mheersp+   955   607  0 18:23 ?        00:00:00 /usr/bin/python3 -m bash_kernel \n",
      "mheersp+   966   955  0 18:23 pts/4    00:00:00 /usr/bin/bash --rcfile /home/mhe\n",
      "mheersp+  1124   607  0 18:28 pts/9    00:00:00 /bin/bash\n",
      "mheersp+  1238   607  0 18:33 pts/10   00:00:00 /bin/bash\n",
      "mheersp+  1390   607  0 18:40 pts/11   00:00:00 /bin/bash\n",
      "mheersp+  3662   607  0 20:22 ?        00:00:00 /usr/bin/python3 -m bash_kernel \n",
      "mheersp+  3673  3662  0 20:22 pts/8    00:00:00 /usr/bin/bash --rcfile /home/mhe\n",
      "mheersp+  6259  3673  0 20:57 pts/8    00:00:00 ps -ef\n"
     ]
    }
   ],
   "source": [
    "ps -ef "
   ]
  },
  {
   "cell_type": "markdown",
   "metadata": {},
   "source": [
    "Confirm the username you are running as."
   ]
  },
  {
   "cell_type": "code",
   "execution_count": 48,
   "metadata": {},
   "outputs": [
    {
     "name": "stdout",
     "output_type": "stream",
     "text": [
      "mheerspink\n"
     ]
    }
   ],
   "source": [
    "echo $USER"
   ]
  },
  {
   "cell_type": "markdown",
   "metadata": {},
   "source": [
    "Run a command to see all the processes running on the server and use grep to select only the processes your user is running."
   ]
  },
  {
   "cell_type": "code",
   "execution_count": 49,
   "metadata": {},
   "outputs": [
    {
     "name": "stdout",
     "output_type": "stream",
     "text": [
      "mheersp+    21    16  0 18:08 pts/0    00:00:00 sh /home/\u001b[01;31m\u001b[Kmheerspink\u001b[m\u001b[K/.vscode-server/bin/c722ca6c7eed3d7987c0d5c3df5c45f6b15e77d1/bin/code-server --host=127.0.0.1 --port=0 --connection-token=697215610-2959248548 --use-host-proxy --without-browser-env-var --disable-websocket-compression --accept-server-license-terms\n",
      "mheersp+    25    21  0 18:08 pts/0    00:00:03 /home/\u001b[01;31m\u001b[Kmheerspink\u001b[m\u001b[K/.vscode-server/bin/c722ca6c7eed3d7987c0d5c3df5c45f6b15e77d1/node /home/\u001b[01;31m\u001b[Kmheerspink\u001b[m\u001b[K/.vscode-server/bin/c722ca6c7eed3d7987c0d5c3df5c45f6b15e77d1/out/server-main.js --host=127.0.0.1 --port=0 --connection-token=697215610-2959248548 --use-host-proxy --without-browser-env-var --disable-websocket-compression --accept-server-license-terms\n",
      "mheersp+    36    25  0 18:08 pts/0    00:00:05 /home/\u001b[01;31m\u001b[Kmheerspink\u001b[m\u001b[K/.vscode-server/bin/c722ca6c7eed3d7987c0d5c3df5c45f6b15e77d1/node /home/\u001b[01;31m\u001b[Kmheerspink\u001b[m\u001b[K/.vscode-server/bin/c722ca6c7eed3d7987c0d5c3df5c45f6b15e77d1/out/bootstrap-fork --type=ptyHost\n",
      "mheersp+    51    48  0 18:08 pts/1    00:00:00 /home/\u001b[01;31m\u001b[Kmheerspink\u001b[m\u001b[K/.vscode-server/bin/c722ca6c7eed3d7987c0d5c3df5c45f6b15e77d1/node -e  const net = require('net'); process.stdin.pause(); const client = net.createConnection({ host: '127.0.0.1', port: 37915 }, () => { client.pipe(process.stdout); process.stdin.pipe(client); }); client.on('close', function (hadError) { console.error(hadError ? 'Remote close with error' : 'Remote close'); process.exit(hadError ? 1 : 0); }); client.on('error', function (err) { process.stderr.write(err && (err.stack || err.message) || String(err)); });\n",
      "mheersp+    77    76  0 18:08 pts/2    00:00:00 /home/\u001b[01;31m\u001b[Kmheerspink\u001b[m\u001b[K/.vscode-server/bin/c722ca6c7eed3d7987c0d5c3df5c45f6b15e77d1/node -e  const net = require('net'); process.stdin.pause(); const client = net.createConnection({ host: '127.0.0.1', port: 37915 }, () => { client.pipe(process.stdout); process.stdin.pipe(client); }); client.on('close', function (hadError) { console.error(hadError ? 'Remote close with error' : 'Remote close'); process.exit(hadError ? 1 : 0); }); client.on('error', function (err) { process.stderr.write(err && (err.stack || err.message) || String(err)); });\n",
      "mheersp+    84    25  0 18:08 pts/0    00:00:00 /home/\u001b[01;31m\u001b[Kmheerspink\u001b[m\u001b[K/.vscode-server/bin/c722ca6c7eed3d7987c0d5c3df5c45f6b15e77d1/node /home/\u001b[01;31m\u001b[Kmheerspink\u001b[m\u001b[K/.vscode-server/bin/c722ca6c7eed3d7987c0d5c3df5c45f6b15e77d1/out/bootstrap-fork --type=fileWatcher\n",
      "mheersp+    95    25  0 18:08 pts/0    00:00:12 /home/\u001b[01;31m\u001b[Kmheerspink\u001b[m\u001b[K/.vscode-server/bin/c722ca6c7eed3d7987c0d5c3df5c45f6b15e77d1/node /home/\u001b[01;31m\u001b[Kmheerspink\u001b[m\u001b[K/.vscode-server/bin/c722ca6c7eed3d7987c0d5c3df5c45f6b15e77d1/out/bootstrap-fork --type=extensionHost --transformURIs --useHostProxy=true\n",
      "mheersp+   607   347  0 18:16 pts/7    00:00:21 /usr/bin/python3 /home/\u001b[01;31m\u001b[Kmheerspink\u001b[m\u001b[K/.local/bin/jupyter-lab\n",
      "mheersp+   955   607  0 18:23 ?        00:00:00 /usr/bin/python3 -m bash_kernel -f /home/\u001b[01;31m\u001b[Kmheerspink\u001b[m\u001b[K/.local/share/jupyter/runtime/kernel-c76d1279-499a-4d49-bf63-f727fb401eb9.json\n",
      "mheersp+   966   955  0 18:23 pts/4    00:00:00 /usr/bin/bash --rcfile /home/\u001b[01;31m\u001b[Kmheerspink\u001b[m\u001b[K/.local/lib/python3.8/site-packages/pexpect/bashrc.sh\n",
      "mheersp+  3662   607  0 20:22 ?        00:00:00 /usr/bin/python3 -m bash_kernel -f /home/\u001b[01;31m\u001b[Kmheerspink\u001b[m\u001b[K/.local/share/jupyter/runtime/kernel-7d6d4ba4-7c7a-4c52-8f29-f259167192cd.json\n",
      "mheersp+  3673  3662  0 20:22 pts/8    00:00:00 /usr/bin/bash --rcfile /home/\u001b[01;31m\u001b[Kmheerspink\u001b[m\u001b[K/.local/lib/python3.8/site-packages/pexpect/bashrc.sh\n",
      "mheersp+  6261  3673  0 20:57 pts/8    00:00:00 grep --color=auto \u001b[01;31m\u001b[Kmheerspink\u001b[m\u001b[K\n"
     ]
    }
   ],
   "source": [
    "ps -ef | grep $USER"
   ]
  },
  {
   "cell_type": "markdown",
   "metadata": {},
   "source": [
    "Repeat the previous exercise. This time, select every process except things running as you.\n"
   ]
  },
  {
   "cell_type": "code",
   "execution_count": 50,
   "metadata": {},
   "outputs": [
    {
     "name": "stdout",
     "output_type": "stream",
     "text": [
      "UID        PID  PPID  C STIME TTY          TIME CMD\n",
      "root         1     0  0 18:08 ?        00:00:00 /init\n",
      "root        13     1  0 18:08 ?        00:00:00 /init\n",
      "root        14    13  0 18:08 ?        00:00:00 /init\n",
      "mheersp+    15    14  0 18:08 pts/0    00:00:00 sh -c \"$VSCODE_WSL_EXT_LOCATION/scripts/wslServer.sh\" c722ca6c7eed3d7987c0d5c3df5c45f6b15e77d1 stable code-server .vscode-server --host=127.0.0.1 --port=0 --connection-token=697215610-2959248548 --use-host-proxy --without-browser-env-var --disable-websocket-compression --accept-server-license-terms\n",
      "mheersp+    16    15  0 18:08 pts/0    00:00:00 sh /mnt/c/Users/Matt Heerspink/.vscode/extensions/ms-vscode-remote.remote-wsl-0.64.2/scripts/wslServer.sh c722ca6c7eed3d7987c0d5c3df5c45f6b15e77d1 stable code-server .vscode-server --host=127.0.0.1 --port=0 --connection-token=697215610-2959248548 --use-host-proxy --without-browser-env-var --disable-websocket-compression --accept-server-license-terms\n",
      "root        47     1  0 18:08 ?        00:00:00 /init\n",
      "root        48    47  0 18:08 ?        00:00:00 /init\n",
      "root        75     1  0 18:08 ?        00:00:00 /init\n",
      "root        76    75  0 18:08 ?        00:00:00 /init\n",
      "mheersp+   290    36  0 18:12 pts/5    00:00:00 /usr/bin/bash\n",
      "mheersp+   343    36  0 18:12 pts/6    00:00:00 /usr/bin/tmux\n",
      "mheersp+   346    14  0 18:12 ?        00:00:00 /usr/bin/tmux\n",
      "mheersp+   347   346  0 18:12 pts/7    00:00:00 -bash\n",
      "mheersp+   729   607  0 18:16 pts/3    00:00:00 /bin/bash\n",
      "mheersp+  1124   607  0 18:28 pts/9    00:00:00 /bin/bash\n",
      "mheersp+  1238   607  0 18:33 pts/10   00:00:00 /bin/bash\n",
      "mheersp+  1390   607  0 18:40 pts/11   00:00:00 /bin/bash\n",
      "mheersp+  6262  3673  0 20:57 pts/8    00:00:00 ps -ef\n"
     ]
    }
   ],
   "source": [
    "ps -ef | grep -v $USER"
   ]
  },
  {
   "cell_type": "markdown",
   "metadata": {},
   "source": [
    "Show the process info for our current session without using a grep command."
   ]
  },
  {
   "cell_type": "code",
   "execution_count": 51,
   "metadata": {},
   "outputs": [
    {
     "name": "stdout",
     "output_type": "stream",
     "text": [
      "UID        PID  PPID  C STIME TTY      STAT   TIME CMD\n",
      "mheersp+  3673  3662  0 20:22 pts/8    Ss     0:00 /usr/bin/bash --rcfile /home/\n"
     ]
    }
   ],
   "source": [
    "ps -f $$"
   ]
  },
  {
   "cell_type": "markdown",
   "metadata": {},
   "source": [
    "Show the process tree for the current session."
   ]
  },
  {
   "cell_type": "code",
   "execution_count": 52,
   "metadata": {},
   "outputs": [
    {
     "name": "stdout",
     "output_type": "stream",
     "text": [
      "\u001b[1minit,1\u001b[0m\n",
      "  └─\u001b[1minit,13\u001b[0m\n",
      "      └─\u001b[1minit,14\u001b[0m\n",
      "          └─\u001b[1mtmux: server,346,mheerspink\u001b[0m\n",
      "              └─\u001b[1mbash,347\u001b[0m\n",
      "                  └─\u001b[1mjupyter-lab,607\u001b[0m /home/mheerspink/.local/bin/jupyter-lab\n",
      "                      └─\u001b[1mpython3,3662\u001b[0m -m bash_kernel -f...\n",
      "                          └─\u001b[1mbash,3673\u001b[0m --rcfile...\n",
      "                              └─\u001b[1mpstree,6265\u001b[0m -shapu 3673\n"
     ]
    }
   ],
   "source": [
    "pstree -shapu $$"
   ]
  },
  {
   "cell_type": "markdown",
   "metadata": {},
   "source": [
    "Run a process check on the server but only output the User, pid and cmd columns to your results."
   ]
  },
  {
   "cell_type": "code",
   "execution_count": 53,
   "metadata": {},
   "outputs": [
    {
     "name": "stdout",
     "output_type": "stream",
     "text": [
      "USER       PID CMD\n",
      "root         1 /init\n",
      "root        13 /init\n",
      "root        14 /init\n",
      "mheersp+    15 sh -c \"$VSCODE_WSL_EXT_LOCATION/scripts/wslServer.sh\" c722ca6c7ee\n",
      "mheersp+    16 sh /mnt/c/Users/Matt Heerspink/.vscode/extensions/ms-vscode-remot\n",
      "mheersp+    21 sh /home/mheerspink/.vscode-server/bin/c722ca6c7eed3d7987c0d5c3df\n",
      "mheersp+    25 /home/mheerspink/.vscode-server/bin/c722ca6c7eed3d7987c0d5c3df5c4\n",
      "mheersp+    36 /home/mheerspink/.vscode-server/bin/c722ca6c7eed3d7987c0d5c3df5c4\n",
      "root        47 /init\n",
      "root        48 /init\n",
      "mheersp+    51 /home/mheerspink/.vscode-server/bin/c722ca6c7eed3d7987c0d5c3df5c4\n",
      "root        75 /init\n",
      "root        76 /init\n",
      "mheersp+    77 /home/mheerspink/.vscode-server/bin/c722ca6c7eed3d7987c0d5c3df5c4\n",
      "mheersp+    84 /home/mheerspink/.vscode-server/bin/c722ca6c7eed3d7987c0d5c3df5c4\n",
      "mheersp+    95 /home/mheerspink/.vscode-server/bin/c722ca6c7eed3d7987c0d5c3df5c4\n",
      "mheersp+   290 /usr/bin/bash\n",
      "mheersp+   343 /usr/bin/tmux\n",
      "mheersp+   346 /usr/bin/tmux\n",
      "mheersp+   347 -bash\n",
      "mheersp+   607 /usr/bin/python3 /home/mheerspink/.local/bin/jupyter-lab\n",
      "mheersp+   729 /bin/bash\n",
      "mheersp+   955 /usr/bin/python3 -m bash_kernel -f /home/mheerspink/.local/share/\n",
      "mheersp+   966 /usr/bin/bash --rcfile /home/mheerspink/.local/lib/python3.8/site\n",
      "mheersp+  1124 /bin/bash\n",
      "mheersp+  1238 /bin/bash\n",
      "mheersp+  1390 /bin/bash\n",
      "mheersp+  3662 /usr/bin/python3 -m bash_kernel -f /home/mheerspink/.local/share/\n",
      "mheersp+  3673 /usr/bin/bash --rcfile /home/mheerspink/.local/lib/python3.8/site\n",
      "mheersp+  6266 ps -eo user,pid,cmd\n"
     ]
    }
   ],
   "source": [
    "ps -eo user,pid,cmd"
   ]
  },
  {
   "cell_type": "markdown",
   "metadata": {},
   "source": [
    "Run a process check to pull all of the process ids running on the server and put the output into a file named list in your\n",
    "home directory"
   ]
  },
  {
   "cell_type": "code",
   "execution_count": 54,
   "metadata": {},
   "outputs": [],
   "source": [
    "ps -eo pid > processes.list"
   ]
  },
  {
   "cell_type": "markdown",
   "metadata": {},
   "source": [
    "Run the following series of commands:\n",
    "\n",
    "    1. sleep 300 &\n",
    "    2. Find this command by checking the processes and running a grep\n",
    "    3. Stop the process using the process id"
   ]
  },
  {
   "cell_type": "code",
   "execution_count": 55,
   "metadata": {},
   "outputs": [
    {
     "name": "stdout",
     "output_type": "stream",
     "text": [
      "[1] 6268\n",
      "mheersp+  6268  3673  0 20:57 pts/8    00:00:00 \u001b[01;31m\u001b[Ksleep\u001b[m\u001b[K 300\n",
      "mheersp+  6270  3673  0 20:57 pts/8    00:00:00 grep --color=auto \u001b[01;31m\u001b[Ksleep\u001b[m\u001b[K\n",
      "6268 sleep\n",
      "\n",
      "\n",
      "  PID TTY      STAT   TIME COMMAND\n",
      " 6268 pts/8    S      0:00 sleep 300\n",
      "\n",
      "killing sleep process: 6268\n"
     ]
    },
    {
     "ename": "",
     "evalue": "1",
     "output_type": "error",
     "traceback": []
    }
   ],
   "source": [
    "sleep 300 &\n",
    "\n",
    "ps -ef | grep sleep\n",
    "\n",
    "pgrep -l sleep\n",
    "\n",
    "GETPS=`pgrep -n sleep`\n",
    "\n",
    "echo $'\\n' \n",
    "\n",
    "ps $GETPS\n",
    "\n",
    "echo $'\\nkilling sleep process:' $GETPS \n",
    "\n",
    "kill $GETPS"
   ]
  },
  {
   "cell_type": "markdown",
   "metadata": {},
   "source": [
    "Run a command to see a dynamic view of all the processes running on your host."
   ]
  },
  {
   "cell_type": "code",
   "execution_count": 56,
   "metadata": {},
   "outputs": [
    {
     "name": "stdout",
     "output_type": "stream",
     "text": [
      "\u001b[?1h\u001b=\u001b[?25l\u001b[H\u001b[J\u001b[m\u000ftop - 20:58:13 up  2:49,  0 users,  load average: 0.00, 0.00, 0.00\u001b[m\u000f\u001b[39;49m\u001b[m\u000f\u001b[39;49m\u001b[K\n",
      "Tasks:\u001b[m\u000f\u001b[39;49m\u001b[1m  30 \u001b[m\u000f\u001b[39;49mtotal,\u001b[m\u000f\u001b[39;49m\u001b[1m   1 \u001b[m\u000f\u001b[39;49mrunning,\u001b[m\u000f\u001b[39;49m\u001b[1m  29 \u001b[m\u000f\u001b[39;49msleeping,\u001b[m\u000f\u001b[39;49m\u001b[1m   0 \u001b[m\u000f\u001b[39;49mstopped,\u001b[m\u000f\u001b[39;49m\u001b[1m   0 \u001b[m\u000f\u001b[39;49mzombie\u001b[m\u000f\u001b[39;49m\u001b[m\u000f\u001b[39;49m\u001b[K\n",
      "%Cpu(s):\u001b[m\u000f\u001b[39;49m\u001b[1m  0.0 \u001b[m\u000f\u001b[39;49mus,\u001b[m\u000f\u001b[39;49m\u001b[1m  0.0 \u001b[m\u000f\u001b[39;49msy,\u001b[m\u000f\u001b[39;49m\u001b[1m  0.0 \u001b[m\u000f\u001b[39;49mni,\u001b[m\u000f\u001b[39;49m\u001b[1m100.0 \u001b[m\u000f\u001b[39;49mid,\u001b[m\u000f\u001b[39;49m\u001b[1m  0.0 \u001b[m\u000f\u001b[39;49mwa,\u001b[m\u000f\u001b[39;49m\u001b[1m  0.0 \u001b[m\u000f\u001b[39;49mhi,\u001b[m\u000f\u001b[39;49m\u001b[1m  0.0 \u001b[m\u000f\u001b[39;49msi,\u001b[m\u000f\u001b[39;49m\u001b[1m  0.0 \u001b[m\u000f\u001b[39;49mst\u001b[m\u000f\u001b[39;49m\u001b[m\u000f\u001b[39;49m\u001b[K\n",
      "MiB Mem :\u001b[m\u000f\u001b[39;49m\u001b[1m  12714.9 \u001b[m\u000f\u001b[39;49mtotal,\u001b[m\u000f\u001b[39;49m\u001b[1m  11400.4 \u001b[m\u000f\u001b[39;49mfree,\u001b[m\u000f\u001b[39;49m\u001b[1m    557.0 \u001b[m\u000f\u001b[39;49mused,\u001b[m\u000f\u001b[39;49m\u001b[1m    757.5 \u001b[m\u000f\u001b[39;49mbuff/cache\u001b[m\u000f\u001b[39;49m\u001b[m\u000f\u001b[39;49m\u001b[K\n",
      "MiB Swap:\u001b[m\u000f\u001b[39;49m\u001b[1m   4096.0 \u001b[m\u000f\u001b[39;49mtotal,\u001b[m\u000f\u001b[39;49m\u001b[1m   4096.0 \u001b[m\u000f\u001b[39;49mfree,\u001b[m\u000f\u001b[39;49m\u001b[1m      0.0 \u001b[m\u000f\u001b[39;49mused.\u001b[m\u000f\u001b[39;49m\u001b[1m  11902.4 \u001b[m\u000f\u001b[39;49mavail Mem \u001b[m\u000f\u001b[39;49m\u001b[m\u000f\u001b[39;49m\u001b[K\n",
      "\u001b[K\n",
      "\u001b[7m  PID USER      PR  NI    VIRT    RES    SHR S  %CPU  %MEM     TIME+ COMMAND    \u001b[m\u000f\u001b[39;49m\u001b[K\n",
      "\u001b[m\u000f    1 root      20   0     916    520    468 S   0.0   0.0   0:00.43 init       \u001b[m\u000f\u001b[39;49m\u001b[K\n",
      "\u001b[m\u000f   13 root      20   0     896     84     20 S   0.0   0.0   0:00.00 init       \u001b[m\u000f\u001b[39;49m\u001b[K\n",
      "\u001b[m\u000f   14 root      20   0     896     84     20 S   0.0   0.0   0:00.00 init       \u001b[m\u000f\u001b[39;49m\u001b[K\n",
      "\u001b[m\u000f   15 mheersp+  20   0    2612    520    456 S   0.0   0.0   0:00.00 sh         \u001b[m\u000f\u001b[39;49m\u001b[K\n",
      "\u001b[m\u000f   16 mheersp+  20   0    2612    596    524 S   0.0   0.0   0:00.00 sh         \u001b[m\u000f\u001b[39;49m\u001b[K\n",
      "\u001b[m\u000f   21 mheersp+  20   0    2612    596    524 S   0.0   0.0   0:00.00 sh         \u001b[m\u000f\u001b[39;49m\u001b[K\n",
      "\u001b[m\u000f   25 mheersp+  20   0  926952  67168  31580 S   0.0   0.5   0:03.54 node       \u001b[m\u000f\u001b[39;49m\u001b[K\n",
      "\u001b[m\u000f   36 mheersp+  20   0  836444  49292  29688 S   0.0   0.4   0:05.37 node       \u001b[m\u000f\u001b[39;49m\u001b[K\n",
      "\u001b[m\u000f   47 root      20   0     904     84     20 S   0.0   0.0   0:00.00 init       \u001b[m\u000f\u001b[39;49m\u001b[K\n",
      "\u001b[m\u000f   48 root      20   0     904     92     20 S   0.0   0.0   0:00.33 init       \u001b[m\u000f\u001b[39;49m\u001b[K\n",
      "\u001b[m\u000f   51 mheersp+  20   0  581044  35884  28116 S   0.0   0.3   0:00.77 node       \u001b[m\u000f\u001b[39;49m\u001b[K\n",
      "\u001b[m\u000f   75 root      20   0     904     84     20 S   0.0   0.0   0:00.00 init       \u001b[m\u000f\u001b[39;49m\u001b[K\n",
      "\u001b[m\u000f   76 root      20   0     904     92     20 S   0.0   0.0   0:00.03 init       \u001b[m\u000f\u001b[39;49m\u001b[K\n",
      "\u001b[m\u000f   77 mheersp+  20   0  579652  32860  25348 S   0.0   0.3   0:00.13 node       \u001b[m\u000f\u001b[39;49m\u001b[K\n",
      "\u001b[m\u000f   84 mheersp+  20   0  828588  41096  29800 S   0.0   0.3   0:00.48 node       \u001b[m\u000f\u001b[39;49m\u001b[K\n",
      "\u001b[m\u000f   95 mheersp+  20   0   10.9g 146360  34576 S   0.0   1.1   0:12.31 node       \u001b[m\u000f\u001b[39;49m\u001b[K\n",
      "\u001b[m\u000f  290 mheersp+  20   0   10004   5052   3336 S   0.0   0.0   0:00.00 bash       \u001b[m\u000f\u001b[39;49m\u001b[K\u001b[H\u001b[m\u000ftop - 20:58:16 up  2:49,  0 users,  load average: 0.00, 0.00, 0.00\u001b[m\u000f\u001b[39;49m\u001b[m\u000f\u001b[39;49m\u001b[K\n",
      "\n",
      "%Cpu(s):\u001b[m\u000f\u001b[39;49m\u001b[1m  0.1 \u001b[m\u000f\u001b[39;49mus,\u001b[m\u000f\u001b[39;49m\u001b[1m  0.0 \u001b[m\u000f\u001b[39;49msy,\u001b[m\u000f\u001b[39;49m\u001b[1m  0.0 \u001b[m\u000f\u001b[39;49mni,\u001b[m\u000f\u001b[39;49m\u001b[1m 99.9 \u001b[m\u000f\u001b[39;49mid,\u001b[m\u000f\u001b[39;49m\u001b[1m  0.0 \u001b[m\u000f\u001b[39;49mwa,\u001b[m\u000f\u001b[39;49m\u001b[1m  0.0 \u001b[m\u000f\u001b[39;49mhi,\u001b[m\u000f\u001b[39;49m\u001b[1m  0.0 \u001b[m\u000f\u001b[39;49msi,\u001b[m\u000f\u001b[39;49m\u001b[1m  0.0 \u001b[m\u000f\u001b[39;49mst\u001b[m\u000f\u001b[39;49m\u001b[m\u000f\u001b[39;49m\u001b[K\n",
      "MiB Mem :\u001b[m\u000f\u001b[39;49m\u001b[1m  12714.9 \u001b[m\u000f\u001b[39;49mtotal,\u001b[m\u000f\u001b[39;49m\u001b[1m  11399.6 \u001b[m\u000f\u001b[39;49mfree,\u001b[m\u000f\u001b[39;49m\u001b[1m    557.7 \u001b[m\u000f\u001b[39;49mused,\u001b[m\u000f\u001b[39;49m\u001b[1m    757.5 \u001b[m\u000f\u001b[39;49mbuff/cache\u001b[m\u000f\u001b[39;49m\u001b[m\u000f\u001b[39;49m\u001b[K\n",
      "MiB Swap:\u001b[m\u000f\u001b[39;49m\u001b[1m   4096.0 \u001b[m\u000f\u001b[39;49mtotal,\u001b[m\u000f\u001b[39;49m\u001b[1m   4096.0 \u001b[m\u000f\u001b[39;49mfree,\u001b[m\u000f\u001b[39;49m\u001b[1m      0.0 \u001b[m\u000f\u001b[39;49mused.\u001b[m\u000f\u001b[39;49m\u001b[1m  11901.6 \u001b[m\u000f\u001b[39;49mavail Mem \u001b[m\u000f\u001b[39;49m\u001b[m\u000f\u001b[39;49m\u001b[K\n",
      "\u001b[K\n",
      "\n",
      "\u001b[m\u000f  607 mheersp+  20   0  518076 110376  19948 S   1.3   0.8   0:21.37 jupyter-l+ \u001b[m\u000f\u001b[39;49m\u001b[K\n",
      "\u001b[m\u000f   36 mheersp+  20   0  836444  49384  29688 S   0.3   0.4   0:05.38 node       \u001b[m\u000f\u001b[39;49m\u001b[K\n",
      "\u001b[m\u000f   95 mheersp+  20   0   10.9g 146360  34576 S   0.3   1.1   0:12.32 node       \u001b[m\u000f\u001b[39;49m\u001b[K\n",
      "\u001b[m\u000f    1 root      20   0     916    520    468 S   0.0   0.0   0:00.43 init       \u001b[m\u000f\u001b[39;49m\u001b[K\n",
      "\u001b[m\u000f   13 root      20   0     896     84     20 S   0.0   0.0   0:00.00 init       \u001b[m\u000f\u001b[39;49m\u001b[K\n",
      "\u001b[m\u000f   14 root      20   0     896     84     20 S   0.0   0.0   0:00.00 init       \u001b[m\u000f\u001b[39;49m\u001b[K\n",
      "\u001b[m\u000f   15 mheersp+  20   0    2612    520    456 S   0.0   0.0   0:00.00 sh         \u001b[m\u000f\u001b[39;49m\u001b[K\n",
      "\u001b[m\u000f   16 mheersp+  20   0    2612    596    524 S   0.0   0.0   0:00.00 sh         \u001b[m\u000f\u001b[39;49m\u001b[K\n",
      "\u001b[m\u000f   21 mheersp+  20   0    2612    596    524 S   0.0   0.0   0:00.00 sh         \u001b[m\u000f\u001b[39;49m\u001b[K\n",
      "\u001b[m\u000f   25 mheersp+  20   0  926952  67168  31580 S   0.0   0.5   0:03.54 node       \u001b[m\u000f\u001b[39;49m\u001b[K\n",
      "\u001b[m\u000f   47 root      20   0     904     84     20 S   0.0   0.0   0:00.00 init       \u001b[m\u000f\u001b[39;49m\u001b[K\n",
      "\u001b[m\u000f   48 root      20   0     904     92     20 S   0.0   0.0   0:00.33 init       \u001b[m\u000f\u001b[39;49m\u001b[K\n",
      "\u001b[m\u000f   51 mheersp+  20   0  581044  35884  28116 S   0.0   0.3   0:00.77 node       \u001b[m\u000f\u001b[39;49m\u001b[K\n",
      "\u001b[m\u000f   75 root      20   0     904     84     20 S   0.0   0.0   0:00.00 init       \u001b[m\u000f\u001b[39;49m\u001b[K\n",
      "\u001b[m\u000f   76 root      20   0     904     92     20 S   0.0   0.0   0:00.03 init       \u001b[m\u000f\u001b[39;49m\u001b[K\n",
      "\u001b[m\u000f   77 mheersp+  20   0  579652  32860  25348 S   0.0   0.3   0:00.13 node       \u001b[m\u000f\u001b[39;49m\u001b[K\n",
      "\u001b[m\u000f   84 mheersp+  20   0  828588  41096  29800 S   0.0   0.3   0:00.48 node       \u001b[m\u000f\u001b[39;49m\u001b[K\u001b[H\u001b[m\u000ftop - 20:58:19 up  2:49,  0 users,  load average: 0.00, 0.00, 0.00\u001b[m\u000f\u001b[39;49m\u001b[m\u000f\u001b[39;49m\u001b[K\n",
      "\n",
      "\n",
      "MiB Mem :\u001b[m\u000f\u001b[39;49m\u001b[1m  12714.9 \u001b[m\u000f\u001b[39;49mtotal,\u001b[m\u000f\u001b[39;49m\u001b[1m  11399.5 \u001b[m\u000f\u001b[39;49mfree,\u001b[m\u000f\u001b[39;49m\u001b[1m    557.9 \u001b[m\u000f\u001b[39;49mused,\u001b[m\u000f\u001b[39;49m\u001b[1m    757.5 \u001b[m\u000f\u001b[39;49mbuff/cache\u001b[m\u000f\u001b[39;49m\u001b[m\u000f\u001b[39;49m\u001b[K\n",
      "MiB Swap:\u001b[m\u000f\u001b[39;49m\u001b[1m   4096.0 \u001b[m\u000f\u001b[39;49mtotal,\u001b[m\u000f\u001b[39;49m\u001b[1m   4096.0 \u001b[m\u000f\u001b[39;49mfree,\u001b[m\u000f\u001b[39;49m\u001b[1m      0.0 \u001b[m\u000f\u001b[39;49mused.\u001b[m\u000f\u001b[39;49m\u001b[1m  11901.5 \u001b[m\u000f\u001b[39;49mavail Mem \u001b[m\u000f\u001b[39;49m\u001b[m\u000f\u001b[39;49m\u001b[K\n",
      "\u001b[K\n",
      "\n",
      "\u001b[m\u000f  607 mheersp+  20   0  518076 110376  19948 S   1.0   0.8   0:21.40 jupyter-l+ \u001b[m\u000f\u001b[39;49m\u001b[K\n",
      "\u001b[m\u000f   25 mheersp+  20   0  926952  67168  31580 S   0.3   0.5   0:03.55 node       \u001b[m\u000f\u001b[39;49m\u001b[K\n",
      "\u001b[m\u000f 3662 mheersp+  20   0  710884  66056  13476 S   0.3   0.5   0:01.01 python3    \u001b[m\u000f\u001b[39;49m\u001b[K\n",
      "\n",
      "\n",
      "\n",
      "\n",
      "\n",
      "\n",
      "\u001b[m\u000f   36 mheersp+  20   0  836444  49384  29688 S   0.0   0.4   0:05.38 node       \u001b[m\u000f\u001b[39;49m\u001b[K\n",
      "\n",
      "\n",
      "\n",
      "\n",
      "\n",
      "\n",
      "\u001b[?1l\u001b>\u001b[25;1H\n",
      "\u001b[34h\u001b[?25h\u001b[K"
     ]
    }
   ],
   "source": [
    "top -n 3"
   ]
  },
  {
   "cell_type": "markdown",
   "metadata": {},
   "source": [
    "Now run the same command but specifically only for root."
   ]
  },
  {
   "cell_type": "code",
   "execution_count": 57,
   "metadata": {},
   "outputs": [
    {
     "name": "stdout",
     "output_type": "stream",
     "text": [
      "\u001b[?1h\u001b=\u001b[?25l\u001b[H\u001b[J\u001b[m\u000ftop - 20:58:23 up  2:49,  0 users,  load average: 0.00, 0.00, 0.00\u001b[m\u000f\u001b[39;49m\u001b[m\u000f\u001b[39;49m\u001b[K\n",
      "Tasks:\u001b[m\u000f\u001b[39;49m\u001b[1m  30 \u001b[m\u000f\u001b[39;49mtotal,\u001b[m\u000f\u001b[39;49m\u001b[1m   1 \u001b[m\u000f\u001b[39;49mrunning,\u001b[m\u000f\u001b[39;49m\u001b[1m  29 \u001b[m\u000f\u001b[39;49msleeping,\u001b[m\u000f\u001b[39;49m\u001b[1m   0 \u001b[m\u000f\u001b[39;49mstopped,\u001b[m\u000f\u001b[39;49m\u001b[1m   0 \u001b[m\u000f\u001b[39;49mzombie\u001b[m\u000f\u001b[39;49m\u001b[m\u000f\u001b[39;49m\u001b[K\n",
      "%Cpu(s):\u001b[m\u000f\u001b[39;49m\u001b[1m  0.4 \u001b[m\u000f\u001b[39;49mus,\u001b[m\u000f\u001b[39;49m\u001b[1m  0.0 \u001b[m\u000f\u001b[39;49msy,\u001b[m\u000f\u001b[39;49m\u001b[1m  0.0 \u001b[m\u000f\u001b[39;49mni,\u001b[m\u000f\u001b[39;49m\u001b[1m 99.2 \u001b[m\u000f\u001b[39;49mid,\u001b[m\u000f\u001b[39;49m\u001b[1m  0.0 \u001b[m\u000f\u001b[39;49mwa,\u001b[m\u000f\u001b[39;49m\u001b[1m  0.0 \u001b[m\u000f\u001b[39;49mhi,\u001b[m\u000f\u001b[39;49m\u001b[1m  0.4 \u001b[m\u000f\u001b[39;49msi,\u001b[m\u000f\u001b[39;49m\u001b[1m  0.0 \u001b[m\u000f\u001b[39;49mst\u001b[m\u000f\u001b[39;49m\u001b[m\u000f\u001b[39;49m\u001b[K\n",
      "MiB Mem :\u001b[m\u000f\u001b[39;49m\u001b[1m  12714.9 \u001b[m\u000f\u001b[39;49mtotal,\u001b[m\u000f\u001b[39;49m\u001b[1m  11399.7 \u001b[m\u000f\u001b[39;49mfree,\u001b[m\u000f\u001b[39;49m\u001b[1m    557.7 \u001b[m\u000f\u001b[39;49mused,\u001b[m\u000f\u001b[39;49m\u001b[1m    757.5 \u001b[m\u000f\u001b[39;49mbuff/cache\u001b[m\u000f\u001b[39;49m\u001b[m\u000f\u001b[39;49m\u001b[K\n",
      "MiB Swap:\u001b[m\u000f\u001b[39;49m\u001b[1m   4096.0 \u001b[m\u000f\u001b[39;49mtotal,\u001b[m\u000f\u001b[39;49m\u001b[1m   4096.0 \u001b[m\u000f\u001b[39;49mfree,\u001b[m\u000f\u001b[39;49m\u001b[1m      0.0 \u001b[m\u000f\u001b[39;49mused.\u001b[m\u000f\u001b[39;49m\u001b[1m  11901.7 \u001b[m\u000f\u001b[39;49mavail Mem \u001b[m\u000f\u001b[39;49m\u001b[m\u000f\u001b[39;49m\u001b[K\n",
      "\u001b[K\n",
      "\u001b[7m  PID USER      PR  NI    VIRT    RES    SHR S  %CPU  %MEM     TIME+ COMMAND    \u001b[m\u000f\u001b[39;49m\u001b[K\n",
      "\u001b[m\u000f    1 root      20   0     916    520    468 S   0.0   0.0   0:00.43 init       \u001b[m\u000f\u001b[39;49m\u001b[K\n",
      "\u001b[m\u000f   13 root      20   0     896     84     20 S   0.0   0.0   0:00.00 init       \u001b[m\u000f\u001b[39;49m\u001b[K\n",
      "\u001b[m\u000f   14 root      20   0     896     84     20 S   0.0   0.0   0:00.00 init       \u001b[m\u000f\u001b[39;49m\u001b[K\n",
      "\u001b[m\u000f   47 root      20   0     904     84     20 S   0.0   0.0   0:00.00 init       \u001b[m\u000f\u001b[39;49m\u001b[K\n",
      "\u001b[m\u000f   48 root      20   0     904     92     20 S   0.0   0.0   0:00.33 init       \u001b[m\u000f\u001b[39;49m\u001b[K\n",
      "\u001b[m\u000f   75 root      20   0     904     84     20 S   0.0   0.0   0:00.00 init       \u001b[m\u000f\u001b[39;49m\u001b[K\n",
      "\u001b[m\u000f   76 root      20   0     904     92     20 S   0.0   0.0   0:00.03 init       \u001b[m\u000f\u001b[39;49m\u001b[K\n",
      "\u001b[J\u001b[H\u001b[m\u000ftop - 20:58:26 up  2:49,  0 users,  load average: 0.00, 0.00, 0.00\u001b[m\u000f\u001b[39;49m\u001b[m\u000f\u001b[39;49m\u001b[K\n",
      "\n",
      "%Cpu(s):\u001b[m\u000f\u001b[39;49m\u001b[1m  0.0 \u001b[m\u000f\u001b[39;49mus,\u001b[m\u000f\u001b[39;49m\u001b[1m  0.0 \u001b[m\u000f\u001b[39;49msy,\u001b[m\u000f\u001b[39;49m\u001b[1m  0.0 \u001b[m\u000f\u001b[39;49mni,\u001b[m\u000f\u001b[39;49m\u001b[1m100.0 \u001b[m\u000f\u001b[39;49mid,\u001b[m\u000f\u001b[39;49m\u001b[1m  0.0 \u001b[m\u000f\u001b[39;49mwa,\u001b[m\u000f\u001b[39;49m\u001b[1m  0.0 \u001b[m\u000f\u001b[39;49mhi,\u001b[m\u000f\u001b[39;49m\u001b[1m  0.0 \u001b[m\u000f\u001b[39;49msi,\u001b[m\u000f\u001b[39;49m\u001b[1m  0.0 \u001b[m\u000f\u001b[39;49mst\u001b[m\u000f\u001b[39;49m\u001b[m\u000f\u001b[39;49m\u001b[K\n",
      "\n",
      "\n",
      "\u001b[K\n",
      "\n",
      "\n",
      "\n",
      "\n",
      "\n",
      "\n",
      "\n",
      "\n",
      "\u001b[J\u001b[H\u001b[m\u000ftop - 20:58:29 up  2:49,  0 users,  load average: 0.00, 0.00, 0.00\u001b[m\u000f\u001b[39;49m\u001b[m\u000f\u001b[39;49m\u001b[K\n",
      "\n",
      "\n",
      "\n",
      "\n",
      "\u001b[K\n",
      "\n",
      "\n",
      "\n",
      "\n",
      "\n",
      "\n",
      "\n",
      "\n",
      "\u001b[J\u001b[?1l\u001b>\u001b[25;1H\n",
      "\u001b[34h\u001b[?25h\u001b[K"
     ]
    }
   ],
   "source": [
    "top -u root -n 3"
   ]
  },
  {
   "cell_type": "markdown",
   "metadata": {},
   "source": [
    "Experiment with the following commands while running top and note your observations:\n",
    "+    Z\n",
    "+    C\n",
    "+    Shift P\n",
    "+    k\n",
    "\n"
   ]
  },
  {
   "cell_type": "code",
   "execution_count": 58,
   "metadata": {},
   "outputs": [],
   "source": [
    "# top (Z, C, Shift P, k)"
   ]
  },
  {
   "cell_type": "markdown",
   "metadata": {},
   "source": [
    "Run a command to check network connectivity between your Linux session and yahoo.com."
   ]
  },
  {
   "cell_type": "code",
   "execution_count": 59,
   "metadata": {},
   "outputs": [
    {
     "name": "stdout",
     "output_type": "stream",
     "text": [
      "PING yahoo.com (98.137.11.164) 56(84) bytes of data.\n",
      "64 bytes from media-router-fp73.prod.media.vip.gq1.yahoo.com (98.137.11.164): icmp_seq=1 ttl=51 time=89.6 ms\n",
      "64 bytes from media-router-fp73.prod.media.vip.gq1.yahoo.com (98.137.11.164): icmp_seq=2 ttl=51 time=86.8 ms\n",
      "64 bytes from media-router-fp73.prod.media.vip.gq1.yahoo.com (98.137.11.164): icmp_seq=3 ttl=51 time=84.1 ms\n",
      "\n",
      "--- yahoo.com ping statistics ---\n",
      "3 packets transmitted, 3 received, 0% packet loss, time 2004ms\n",
      "rtt min/avg/max/mdev = 84.122/86.853/89.640/2.253 ms\n"
     ]
    }
   ],
   "source": [
    "ping -c 3 yahoo.com"
   ]
  },
  {
   "cell_type": "markdown",
   "metadata": {},
   "source": [
    "show the network route between your session and yahoo.com and output the contents into a file named route in your\n",
    "home directory"
   ]
  },
  {
   "cell_type": "code",
   "execution_count": 60,
   "metadata": {},
   "outputs": [],
   "source": [
    "traceroute yahoo.com > yahoo.route"
   ]
  },
  {
   "cell_type": "markdown",
   "metadata": {},
   "source": [
    "View the file using less and see how many hops it took to get there."
   ]
  },
  {
   "cell_type": "code",
   "execution_count": 61,
   "metadata": {},
   "outputs": [
    {
     "name": "stdout",
     "output_type": "stream",
     "text": [
      "traceroute to yahoo.com (98.137.11.164), 64 hops max\n",
      "  1   172.25.64.1  0.210ms  0.140ms  0.180ms \n",
      "  2   192.168.0.1  2.209ms  1.511ms  2.000ms \n",
      "  3   *  *  * \n",
      "  4   173.219.224.232  12.251ms  12.798ms  9.048ms \n",
      "  5   173.219.17.108  29.084ms  27.103ms  26.853ms \n",
      "  6   66.76.232.146  28.825ms  28.958ms  29.939ms \n",
      "  7   209.191.64.71  81.248ms  80.839ms  80.544ms \n",
      "  8   209.191.64.234  105.522ms  86.891ms  94.808ms \n",
      "  9   66.196.67.99  88.230ms  87.763ms  93.206ms \n",
      " 10   98.136.158.209  88.950ms  88.649ms  86.132ms \n",
      " 11   98.136.159.243  89.973ms  89.801ms  86.108ms \n",
      " 12   98.136.158.193  88.032ms  86.872ms  84.912ms \n",
      " 13   98.137.11.164  90.084ms  86.900ms  85.923ms \n"
     ]
    }
   ],
   "source": [
    "# less yahoo.route\n",
    "cat yahoo.route"
   ]
  },
  {
   "cell_type": "markdown",
   "metadata": {},
   "source": [
    "Create a soft link named route to your network route."
   ]
  },
  {
   "cell_type": "code",
   "execution_count": 62,
   "metadata": {},
   "outputs": [],
   "source": [
    "ln -s yahoo.route route"
   ]
  },
  {
   "cell_type": "markdown",
   "metadata": {},
   "source": [
    "Run a command to see all the network sockets on your server and output to a file named output in your home directory."
   ]
  },
  {
   "cell_type": "code",
   "execution_count": 63,
   "metadata": {},
   "outputs": [],
   "source": [
    "netstat -a > network.output"
   ]
  },
  {
   "cell_type": "markdown",
   "metadata": {},
   "source": [
    "Create a folder named network in your home directory."
   ]
  },
  {
   "cell_type": "code",
   "execution_count": 64,
   "metadata": {},
   "outputs": [],
   "source": [
    "mkdir network"
   ]
  },
  {
   "cell_type": "markdown",
   "metadata": {},
   "source": [
    "Move your route file and network output file into the network folder you just created."
   ]
  },
  {
   "cell_type": "code",
   "execution_count": 65,
   "metadata": {},
   "outputs": [],
   "source": [
    "mv yahoo.route network.output network/."
   ]
  },
  {
   "cell_type": "markdown",
   "metadata": {},
   "source": [
    "Run the command to query your network interfaces on your session."
   ]
  },
  {
   "cell_type": "code",
   "execution_count": 66,
   "metadata": {},
   "outputs": [
    {
     "name": "stdout",
     "output_type": "stream",
     "text": [
      "eth0: flags=4163<UP,BROADCAST,RUNNING,MULTICAST>  mtu 1500\n",
      "        inet 172.25.66.65  netmask 255.255.240.0  broadcast 172.25.79.255\n",
      "        inet6 fe80::215:5dff:fee5:c2f0  prefixlen 64  scopeid 0x20<link>\n",
      "        ether 00:15:5d:e5:c2:f0  txqueuelen 1000  (Ethernet)\n",
      "        RX packets 43382  bytes 10817622 (10.8 MB)\n",
      "        RX errors 0  dropped 0  overruns 0  frame 0\n",
      "        TX packets 2596  bytes 186204 (186.2 KB)\n",
      "        TX errors 0  dropped 0 overruns 0  carrier 0  collisions 0\n",
      "\n",
      "lo: flags=73<UP,LOOPBACK,RUNNING>  mtu 65536\n",
      "        inet 127.0.0.1  netmask 255.0.0.0\n",
      "        inet6 ::1  prefixlen 128  scopeid 0x10<host>\n",
      "        loop  txqueuelen 1000  (Local Loopback)\n",
      "        RX packets 84045  bytes 68590646 (68.5 MB)\n",
      "        RX errors 0  dropped 0  overruns 0  frame 0\n",
      "        TX packets 84045  bytes 68590646 (68.5 MB)\n",
      "        TX errors 0  dropped 0 overruns 0  carrier 0  collisions 0\n",
      "\n"
     ]
    }
   ],
   "source": [
    "ifconfig"
   ]
  },
  {
   "cell_type": "markdown",
   "metadata": {},
   "source": [
    "Remove generated files..."
   ]
  },
  {
   "cell_type": "code",
   "execution_count": 67,
   "metadata": {},
   "outputs": [],
   "source": [
    "rm -rf network/ processes.list route"
   ]
  }
 ],
 "metadata": {
  "interpreter": {
   "hash": "74a49e9696adfe1c0b154918055a4355d9cdab3b5148c7580898f01b33e5a3a2"
  },
  "kernelspec": {
   "display_name": "Bash",
   "language": "bash",
   "name": "bash"
  },
  "language_info": {
   "codemirror_mode": "shell",
   "file_extension": ".sh",
   "mimetype": "text/x-sh",
   "name": "bash"
  }
 },
 "nbformat": 4,
 "nbformat_minor": 4
}
