{
 "cells": [
  {
   "cell_type": "markdown",
   "metadata": {},
   "source": [
    "#### Linux Files and Filesystems\n",
    "\n",
    "---\n",
    "\n",
    "AWS EC2 Instance"
   ]
  },
  {
   "cell_type": "code",
   "execution_count": 21,
   "metadata": {},
   "outputs": [
    {
     "name": "stderr",
     "output_type": "stream",
     "text": [
      "Pseudo-terminal will not be allocated because stdin is not a terminal.\n"
     ]
    },
    {
     "name": "stdout",
     "output_type": "stream",
     "text": [
      "/home/ec2-user\n",
      ".:\n",
      "total 60\n",
      "drwxrwxr-x 6 ec2-user ec2-user    58 Mar 23 13:58 Algo1\n",
      "-rwxr--r-- 1 ec2-user ec2-user  7351 Feb 18 12:31 fixGenerator.sh\n",
      "-rw-rw-r-- 1 ec2-user ec2-user 49674 Mar 23 13:31 fixlog.log\n",
      "\n",
      "./Algo1:\n",
      "total 0\n",
      "drwxrwxr-x 2 ec2-user ec2-user  6 Mar 23 13:58 bin\n",
      "drwxrwxr-x 2 ec2-user ec2-user 44 Mar 23 13:58 config\n",
      "drwxrwxr-x 2 ec2-user ec2-user 23 Mar 23 13:58 logs\n",
      "drwxrwxr-x 2 ec2-user ec2-user 53 Mar 23 13:58 scripts\n",
      "\n",
      "./Algo1/bin:\n",
      "total 0\n",
      "\n",
      "./Algo1/config:\n",
      "total 0\n",
      "-rw-rw-r-- 1 ec2-user ec2-user 0 Mar 23 13:58 config.config\n",
      "-rw-rw-r-- 1 ec2-user ec2-user 0 Mar 23 13:58 variables\n",
      "\n",
      "./Algo1/logs:\n",
      "total 0\n",
      "-rw-rw-r-- 1 ec2-user ec2-user 0 Mar 23 13:58 today.log\n",
      "\n",
      "./Algo1/scripts:\n",
      "total 0\n",
      "-rw-rw-r-- 1 ec2-user ec2-user 0 Mar 23 13:58 admin.sh\n",
      "-rw-rw-r-- 1 ec2-user ec2-user 0 Mar 23 13:58 start.sh\n",
      "-rw-rw-r-- 1 ec2-user ec2-user 0 Mar 23 13:58 stop.sh\n"
     ]
    }
   ],
   "source": [
    "%%bash ./ec2.sh\n",
    "\n",
    "# 1. Change directory to your home directory\n",
    "cd ~\n",
    "\n",
    "# 2. Print out your current directory\n",
    "pwd\n",
    "\n",
    "# 3. Create a folder named Algo1\n",
    "mkdir Algo1\n",
    "\n",
    "#4. Within Algo1, create subfolders named config, bin, logs, scripts\n",
    "mkdir Algo1/bin Algo1/config Algo1/logs Algo1/scripts\n",
    "\n",
    "# 5. Within config, create empty files named config.config and variables\n",
    "touch Algo1/config/config.config Algo1/config/variables \n",
    "\n",
    "# 6. Within scripts create empty files named start.sh, stop.sh and admin.sh\n",
    "touch Algo1/scripts/start.sh Algo1/scripts/stop.sh Algo1/scripts/admin.sh\n",
    "\n",
    "# 7. Within logs create an empty file named today.log\n",
    "touch Algo1/logs/today.log\n",
    "\n",
    "# 8. Go back to your home directory\n",
    "cd ~\n",
    "\n",
    "# 9. Long list everything recursively\n",
    "ls -lR"
   ]
  },
  {
   "cell_type": "code",
   "execution_count": 22,
   "metadata": {},
   "outputs": [
    {
     "name": "stderr",
     "output_type": "stream",
     "text": [
      "Pseudo-terminal will not be allocated because stdin is not a terminal.\n"
     ]
    },
    {
     "name": "stdout",
     "output_type": "stream",
     "text": [
      "/home/ec2-user\n",
      "/home/ec2-user\n",
      ".:\n",
      "total 60\n",
      "drwxrwxr-x 6 ec2-user ec2-user    58 Mar 23 13:58 Algo1\n",
      "-rwxr--r-- 1 ec2-user ec2-user  7351 Feb 18 12:31 fixGenerator.sh\n",
      "-rw-rw-r-- 1 ec2-user ec2-user 49674 Mar 23 13:31 fixlog.log\n",
      "\n",
      "./Algo1:\n",
      "total 0\n",
      "drwxrwxr-x 2 ec2-user ec2-user  6 Mar 23 13:58 bin\n",
      "drwxrwxr-x 2 ec2-user ec2-user 27 Mar 23 13:58 config\n",
      "drwxrwxr-x 2 ec2-user ec2-user 23 Mar 23 13:58 logs\n",
      "drwxrwxr-x 2 ec2-user ec2-user 53 Mar 23 13:58 scripts\n",
      "\n",
      "./Algo1/bin:\n",
      "total 0\n",
      "\n",
      "./Algo1/config:\n",
      "total 0\n",
      "-rw-rw-r-- 1 ec2-user ec2-user 0 Mar 23 13:58 config.config\n",
      "\n",
      "./Algo1/logs:\n",
      "total 0\n",
      "-rw-rw-r-- 1 ec2-user ec2-user 0 Mar 23 13:58 today.log\n",
      "\n",
      "./Algo1/scripts:\n",
      "total 0\n",
      "-rw-rw-r-- 1 ec2-user ec2-user 0 Mar 23 13:58 admin.sh\n",
      "-rw-rw-r-- 1 ec2-user ec2-user 0 Mar 23 13:58 start.sh\n",
      "-rw-rw-r-- 1 ec2-user ec2-user 0 Mar 23 13:58 stop.sh\n"
     ]
    }
   ],
   "source": [
    "%%bash ./ec2.sh\n",
    "\n",
    "cd ~\n",
    "pwd\n",
    "\n",
    "# 10. Remove the file named variables in the config directory\n",
    "rm Algo1/config/variables\n",
    "\n",
    "# 11. Remove the bin directory that you previously created\n",
    "rmdir Algo1/bin\n",
    "\n",
    "# 12. Change back to your home directory\n",
    "cd ~\n",
    "\n",
    "# 13. Create the bin directory again within Algo1\n",
    "mkdir Algo1/bin\n",
    "\n",
    "# 14. Create a directory in the logs folder named oldlogs\n",
    "mkdir Algo1/logs/oldlogs\n",
    "\n",
    "# 15. Within oldlogs, create folders named 2019 2018 2017\n",
    "mkdir Algo1/logs/oldlogs/2017 Algo1/logs/oldlogs/2018 Algo1/logs/oldlogs/2019\n",
    "\n",
    "# 16. Within 2017, create an empty file named 2017.log\n",
    "touch Algo1/logs/oldlogs/2017/2017.log\n",
    "\n",
    "# 17. Within 2018, create an empty file named 2018.log\n",
    "touch Algo1/logs/oldlogs/2018/2018.log\n",
    "\n",
    "# 18. Within 2019, create an empty file named 2019.log\n",
    "touch Algo1/logs/oldlogs/2019/2019.log\n",
    "\n",
    "# 19. Change back to your home directory\n",
    "cd ~\n",
    "\n",
    "# 20. Remove oldlogs using one command\n",
    "rm -rf Algo1/logs/oldlogs\n",
    "\n",
    "# 21. Ensure you are in your home directory\n",
    "pwd\n",
    "\n",
    "ls -lR"
   ]
  },
  {
   "cell_type": "code",
   "execution_count": 23,
   "metadata": {},
   "outputs": [
    {
     "name": "stderr",
     "output_type": "stream",
     "text": [
      "Pseudo-terminal will not be allocated because stdin is not a terminal.\n"
     ]
    },
    {
     "name": "stdout",
     "output_type": "stream",
     "text": [
      "/home/ec2-user\n",
      "./fixGenerator.sh\n",
      "./Algo1/scripts/start.sh\n",
      "./Algo1/scripts/stop.sh\n",
      "./Algo1/scripts/admin.sh\n"
     ]
    }
   ],
   "source": [
    "%%bash ./ec2.sh\n",
    "\n",
    "# 21. Ensure you are in your home directory\n",
    "cd ~ && pwd\n",
    "\n",
    "# 22. Search for all files from your home directory that end in .sh\n",
    "find -name \"*.sh\"\n",
    "\n",
    "\n"
   ]
  },
  {
   "cell_type": "code",
   "execution_count": 24,
   "metadata": {},
   "outputs": [
    {
     "name": "stderr",
     "output_type": "stream",
     "text": [
      "Pseudo-terminal will not be allocated because stdin is not a terminal.\n"
     ]
    },
    {
     "name": "stdout",
     "output_type": "stream",
     "text": [
      "/home/ec2-user\n",
      "/home/ec2-user/Algo1/scripts\n",
      ".:\n",
      "total 0\n",
      "-rw-rw-r-- 1 ec2-user ec2-user 0 Mar 23 13:58 admin.sh\n",
      "-rw-rw-r-- 1 ec2-user ec2-user 0 Mar 23 13:58 start.sh\n",
      "-rw-rw-r-- 1 ec2-user ec2-user 0 Mar 23 13:58 stop.sh\n",
      "/home/ec2-user/Algo1/scripts\n",
      ".:\n",
      "total 0\n",
      "-rw-rw-r-- 1 ec2-user ec2-user 0 Mar 23 13:58 admin.sh\n"
     ]
    }
   ],
   "source": [
    "%%bash ./ec2.sh\n",
    "cd ~ && pwd\n",
    "\n",
    "# 23. Go into the scripts directory and use a command to remove both the start and stop script without specifying each file separately\n",
    "cd Algo1/scripts\n",
    "\n",
    "pwd && ls -lR\n",
    "\n",
    "rm s*.sh\n",
    "\n",
    "pwd && ls -lR"
   ]
  },
  {
   "cell_type": "code",
   "execution_count": 25,
   "metadata": {},
   "outputs": [
    {
     "name": "stderr",
     "output_type": "stream",
     "text": [
      "Pseudo-terminal will not be allocated because stdin is not a terminal.\n"
     ]
    },
    {
     "name": "stdout",
     "output_type": "stream",
     "text": [
      "/home/ec2-user\n",
      ".:\n",
      "total 60\n",
      "-rwxr--r-- 1 ec2-user ec2-user  7351 Feb 18 12:31 fixGenerator.sh\n",
      "-rw-rw-r-- 1 ec2-user ec2-user 49674 Mar 23 13:31 fixlog.log\n"
     ]
    }
   ],
   "source": [
    "%%bash ./ec2.sh\n",
    "\n",
    "# 24. Remove Algo1 from the home directory\n",
    "cd ~ && rm -rf Algo1\n",
    "\n",
    "pwd && ls -lR"
   ]
  }
 ],
 "metadata": {
  "interpreter": {
   "hash": "05811a4c8edeb62e87c3e708461cae05c65dc4bb514779bc955273fc84b8bc5c"
  },
  "kernelspec": {
   "display_name": "Python 3.8.12 ('base')",
   "language": "python",
   "name": "python3"
  },
  "language_info": {
   "codemirror_mode": {
    "name": "ipython",
    "version": 3
   },
   "file_extension": ".py",
   "mimetype": "text/x-python",
   "name": "python",
   "nbconvert_exporter": "python",
   "pygments_lexer": "ipython3",
   "version": "3.8.12"
  },
  "orig_nbformat": 4
 },
 "nbformat": 4,
 "nbformat_minor": 2
}
