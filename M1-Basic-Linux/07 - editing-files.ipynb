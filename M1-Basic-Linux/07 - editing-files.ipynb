{
 "cells": [
  {
   "cell_type": "markdown",
   "metadata": {},
   "source": [
    "### Part 1: Editing Files - Avengers\n",
    "\n",
    "---\n",
    "\n",
    "WSL2 Ubuntu"
   ]
  },
  {
   "cell_type": "code",
   "execution_count": 5,
   "metadata": {},
   "outputs": [
    {
     "name": "stdout",
     "output_type": "stream",
     "text": [
      "\n",
      "Six stones, three teams, one shot. Five years ago, we lost. All of us. We lost friends. We lost\n",
      "family. We lost a part of ourselves. Today, we have a chance to take it all back. You know your\n",
      "teams. You know your missions. Get the stones. Get them back. One round trip each. No mistakes.\n",
      "No do-overs. Most of us are going somewhere we know. that doesn't mean we should know what to e\n",
      "xpect. Be careful. Look out for each other. This is the fight of our lives, and we're gonna wi\n",
      "n. Whatever it takes. Good luck.\n",
      "\n",
      "Captain America - Endgame\n",
      "\n",
      "Six stones, three teams, one shot. Five years ago, we lost. All of us. We lost friends. We lost\n",
      "family. We lost a part of ourselves. Today, we have a chance to take it all back. You know your\n",
      "teams. You know your missions. Get THE stones. Get them back. One round trip each. No mistakes.\n",
      "No do-overs. Most of us are going somewhere we know. that doesn't mean we should know what to e\n",
      "xpect. Be careful. Look out for each other. This is THE fight of our lives, and we're gonna wi\n",
      "n. Whatever it takes. \n",
      "line count: 10\n",
      "word count: 107\n"
     ]
    }
   ],
   "source": [
    "#!/bin/bash\n",
    "\n",
    "\n",
    "# 1. Open a new file named avengers in your home directory in your editor and paste in the following text:\n",
    "avengers=\"Six stones, three teams, one shot. Five years ago, we lost. All of us. We lost friends. We lost\n",
    "family. We lost a part of ourselves. Today, we have a chance to take it all back. You know your\n",
    "teams. You know your missions. Get the stones. Get them back. One round trip each. No mistakes.\n",
    "No do-overs. Most of us are going somewhere we know. that doesn't mean we should know what to e\n",
    "xpect. Be careful. Look out for each other. This is the fight of our lives, and we're gonna wi\n",
    "n. Whatever it takes. Good luck.\"\n",
    "\n",
    "echo $'\\n'\"$avengers\"$'\\n'\n",
    "\n",
    "# 2. Exit and save the file.\n",
    "echo \"$avengers\" >avengers.txt\n",
    "\n",
    "# 3. Run a word count on the file.\n",
    "# wc -w avengers.txt\n",
    "\n",
    "# 4. Edit the file to add a blank line and type in \"word count\" followed by the value you just got.\n",
    "echo $'\\nword count:' $(wc -w <avengers.txt) >>avengers.txt\n",
    "\n",
    "# 5. Replace every instance of the word \"the\" with \"THE\".\n",
    "sed -i 's/ the / THE /g' avengers.txt\n",
    "\n",
    "# 6. Copy the first line of the file and paste it after your word count entry at the bottom of the file.\n",
    "firstline=$(head -1 avengers.txt)\n",
    "echo $firstline >>avengers.txt\n",
    "\n",
    "# 7. Delete the first line of the file.\n",
    "sed -i '1d' avengers.txt\n",
    "\n",
    "# 8. Undo that deletion.\n",
    "lastline=$(tail -1 avengers.txt)\n",
    "sed -i '1s/^/'\"$lastline\"'\\n/' avengers.txt\n",
    "\n",
    "# 9. Insert at the top of the file the text \"Captain America – Endgame\" followed by an empty line.\n",
    "sed -i '1s/^/'\"Captain America - Endgame\"'\\n\\n/' avengers.txt\n",
    "\n",
    "# 10. Find out the number of lines in the file now.\n",
    "# wc -l avengers.txt\n",
    "\n",
    "# 11. Delete \"Good luck\" wherever it occurs in the file\n",
    "sed -i 's/'\"Good luck.\"'/'\"\"'/g' avengers.txt\n",
    "\n",
    "# 12. Write the number of lines into the file one line above the word count with the text \"line count\" plus the value.\n",
    "sed -i \"$(($(wc -l <avengers.txt) - 2)),$ d\" avengers.txt\n",
    "echo $'line count:\\nword count:' >>avengers.txt\n",
    "\n",
    "line_count=$(wc -l <avengers.txt)\n",
    "sed -i 's/line count:/line count: '\"$line_count\"'/g' avengers.txt\n",
    "\n",
    "word_count=$(wc -w <avengers.txt)\n",
    "sed -i 's/word count:/word count: '\"$word_count\"'/g' avengers.txt\n",
    "\n",
    "cat avengers.txt\n",
    "\n",
    "# 13. Remove the temporary files...\n",
    "rm -rf avengers.txt"
   ]
  }
 ],
 "metadata": {
  "interpreter": {
   "hash": "e55666fbbf217aa3df372b978577f47b6009e2f78e2ec76a584f49cd54a1e62c"
  },
  "kernelspec": {
   "display_name": "Bash",
   "language": "bash",
   "name": "bash"
  },
  "language_info": {
   "codemirror_mode": "shell",
   "file_extension": ".sh",
   "mimetype": "text/x-sh",
   "name": "bash"
  }
 },
 "nbformat": 4,
 "nbformat_minor": 4
}
